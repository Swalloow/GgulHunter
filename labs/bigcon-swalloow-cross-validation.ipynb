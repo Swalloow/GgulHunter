{
 "cells": [
  {
   "cell_type": "markdown",
   "metadata": {},
   "source": [
    "# Cross validation for BigConTest"
   ]
  },
  {
   "cell_type": "code",
   "execution_count": 1,
   "metadata": {
    "collapsed": true
   },
   "outputs": [],
   "source": [
    "import numpy as np\n",
    "import pandas as pd"
   ]
  },
  {
   "cell_type": "markdown",
   "metadata": {},
   "source": [
    "## Load Data"
   ]
  },
  {
   "cell_type": "code",
   "execution_count": 2,
   "metadata": {
    "collapsed": false,
    "scrolled": true
   },
   "outputs": [
    {
     "data": {
      "text/html": [
       "<div>\n",
       "<table border=\"1\" class=\"dataframe\">\n",
       "  <thead>\n",
       "    <tr style=\"text-align: right;\">\n",
       "      <th></th>\n",
       "      <th>날짜</th>\n",
       "      <th>순위</th>\n",
       "      <th>영화명</th>\n",
       "      <th>개봉일</th>\n",
       "      <th>매출액</th>\n",
       "      <th>매출액 점유율</th>\n",
       "      <th>매출액증감 (전일대비)</th>\n",
       "      <th>매출액증감율 (전일대비)</th>\n",
       "      <th>누적매출액</th>\n",
       "      <th>관객수</th>\n",
       "      <th>...</th>\n",
       "      <th>스크린수</th>\n",
       "      <th>상영횟수</th>\n",
       "      <th>대표국적</th>\n",
       "      <th>국적</th>\n",
       "      <th>제작사</th>\n",
       "      <th>배급사</th>\n",
       "      <th>등급</th>\n",
       "      <th>장르</th>\n",
       "      <th>감독</th>\n",
       "      <th>배우</th>\n",
       "    </tr>\n",
       "  </thead>\n",
       "  <tbody>\n",
       "    <tr>\n",
       "      <th>4</th>\n",
       "      <td>2014년 08월 07일(목)</td>\n",
       "      <td>1</td>\n",
       "      <td>명량</td>\n",
       "      <td>2014-07-30 00:00:00</td>\n",
       "      <td>4892511700</td>\n",
       "      <td>0.595</td>\n",
       "      <td>-380933700</td>\n",
       "      <td>-0.1</td>\n",
       "      <td>61033902816</td>\n",
       "      <td>652776</td>\n",
       "      <td>...</td>\n",
       "      <td>1239</td>\n",
       "      <td>6776</td>\n",
       "      <td>한국</td>\n",
       "      <td>한국</td>\n",
       "      <td>(주)빅스톤픽쳐스</td>\n",
       "      <td>씨제이이앤엠(주)</td>\n",
       "      <td>15세이상관람가</td>\n",
       "      <td>사극,액션</td>\n",
       "      <td>김한민</td>\n",
       "      <td>최민식,류승룡,조진웅,김명곤,진구,이정현,권율,노민우,김태훈,이승준,오타니 료헤이,...</td>\n",
       "    </tr>\n",
       "    <tr>\n",
       "      <th>5</th>\n",
       "      <td>2014년 08월 07일(목)</td>\n",
       "      <td>2</td>\n",
       "      <td>해적: 바다로 간 산적</td>\n",
       "      <td>2014-08-06 00:00:00</td>\n",
       "      <td>1890503200</td>\n",
       "      <td>0.23</td>\n",
       "      <td>-130889400</td>\n",
       "      <td>-0.1</td>\n",
       "      <td>4137374300</td>\n",
       "      <td>254862</td>\n",
       "      <td>...</td>\n",
       "      <td>795</td>\n",
       "      <td>3932</td>\n",
       "      <td>한국</td>\n",
       "      <td>한국</td>\n",
       "      <td>(주)하리마오픽쳐스</td>\n",
       "      <td>롯데쇼핑㈜롯데엔터테인먼트</td>\n",
       "      <td>12세이상관람가</td>\n",
       "      <td>어드벤처</td>\n",
       "      <td>이석훈</td>\n",
       "      <td>김남길,손예진,유해진,이경영,오달수,김태우,박철민,신정근,김원해,조달환,조희봉,정성...</td>\n",
       "    </tr>\n",
       "    <tr>\n",
       "      <th>6</th>\n",
       "      <td>2014년 08월 07일(목)</td>\n",
       "      <td>3</td>\n",
       "      <td>드래곤 길들이기 2</td>\n",
       "      <td>2014-07-23 00:00:00</td>\n",
       "      <td>437352300</td>\n",
       "      <td>0.053</td>\n",
       "      <td>-27892900</td>\n",
       "      <td>-0.1</td>\n",
       "      <td>19775433889</td>\n",
       "      <td>58182</td>\n",
       "      <td>...</td>\n",
       "      <td>423</td>\n",
       "      <td>1016</td>\n",
       "      <td>미국</td>\n",
       "      <td>미국</td>\n",
       "      <td>드림웍스 애니메이션</td>\n",
       "      <td>씨제이이앤엠(주)</td>\n",
       "      <td>전체관람가</td>\n",
       "      <td>애니메이션,액션,어드벤처</td>\n",
       "      <td>딘 데블로이스</td>\n",
       "      <td>제이 바루첼,제라드 버틀러,케이트 블란쳇,아메리카 페레라</td>\n",
       "    </tr>\n",
       "    <tr>\n",
       "      <th>7</th>\n",
       "      <td>2014년 08월 07일(목)</td>\n",
       "      <td>4</td>\n",
       "      <td>가디언즈 오브 갤럭시</td>\n",
       "      <td>2014-07-31 00:00:00</td>\n",
       "      <td>347508400</td>\n",
       "      <td>0.042</td>\n",
       "      <td>-11947100</td>\n",
       "      <td>0</td>\n",
       "      <td>7187518884</td>\n",
       "      <td>39837</td>\n",
       "      <td>...</td>\n",
       "      <td>344</td>\n",
       "      <td>844</td>\n",
       "      <td>미국</td>\n",
       "      <td>미국</td>\n",
       "      <td>마블 스튜디오</td>\n",
       "      <td>소니픽쳐스릴리징월트디즈니스튜디오스코리아(주)</td>\n",
       "      <td>12세이상관람가</td>\n",
       "      <td>액션,어드벤처,SF</td>\n",
       "      <td>제임스 건</td>\n",
       "      <td>크리스 프랫,조 샐다나,데이브 바티스타,빈 디젤,브래들리 쿠퍼</td>\n",
       "    </tr>\n",
       "    <tr>\n",
       "      <th>8</th>\n",
       "      <td>2014년 08월 07일(목)</td>\n",
       "      <td>5</td>\n",
       "      <td>명탐정 코난 : 이차원의 저격수</td>\n",
       "      <td>2014-08-06 00:00:00</td>\n",
       "      <td>262921800</td>\n",
       "      <td>0.032</td>\n",
       "      <td>103795200</td>\n",
       "      <td>0.7</td>\n",
       "      <td>433027400</td>\n",
       "      <td>38912</td>\n",
       "      <td>...</td>\n",
       "      <td>261</td>\n",
       "      <td>514</td>\n",
       "      <td>일본</td>\n",
       "      <td>일본</td>\n",
       "      <td>TMS 엔터테인먼트</td>\n",
       "      <td>씨제이이앤엠(주)</td>\n",
       "      <td>12세이상관람가</td>\n",
       "      <td>애니메이션,스릴러,어드벤처</td>\n",
       "      <td>시즈노 코분</td>\n",
       "      <td>타카야마 미나미, 히다카 노리코</td>\n",
       "    </tr>\n",
       "  </tbody>\n",
       "</table>\n",
       "<p>5 rows × 23 columns</p>\n",
       "</div>"
      ],
      "text/plain": [
       "                 날짜 순위                영화명                  개봉일         매출액  \\\n",
       "4  2014년 08월 07일(목)  1                 명량  2014-07-30 00:00:00  4892511700   \n",
       "5  2014년 08월 07일(목)  2       해적: 바다로 간 산적  2014-08-06 00:00:00  1890503200   \n",
       "6  2014년 08월 07일(목)  3         드래곤 길들이기 2  2014-07-23 00:00:00   437352300   \n",
       "7  2014년 08월 07일(목)  4        가디언즈 오브 갤럭시  2014-07-31 00:00:00   347508400   \n",
       "8  2014년 08월 07일(목)  5  명탐정 코난 : 이차원의 저격수  2014-08-06 00:00:00   262921800   \n",
       "\n",
       "  매출액 점유율 매출액증감 (전일대비) 매출액증감율 (전일대비)        누적매출액     관객수  \\\n",
       "4   0.595   -380933700          -0.1  61033902816  652776   \n",
       "5    0.23   -130889400          -0.1   4137374300  254862   \n",
       "6   0.053    -27892900          -0.1  19775433889   58182   \n",
       "7   0.042    -11947100             0   7187518884   39837   \n",
       "8   0.032    103795200           0.7    433027400   38912   \n",
       "\n",
       "                         ...                          스크린수  상영횟수 대표국적  국적  \\\n",
       "4                        ...                          1239  6776   한국  한국   \n",
       "5                        ...                           795  3932   한국  한국   \n",
       "6                        ...                           423  1016   미국  미국   \n",
       "7                        ...                           344   844   미국  미국   \n",
       "8                        ...                           261   514   일본  일본   \n",
       "\n",
       "           제작사                       배급사        등급              장르       감독  \\\n",
       "4    (주)빅스톤픽쳐스                 씨제이이앤엠(주)  15세이상관람가           사극,액션      김한민   \n",
       "5   (주)하리마오픽쳐스             롯데쇼핑㈜롯데엔터테인먼트  12세이상관람가            어드벤처      이석훈   \n",
       "6   드림웍스 애니메이션                 씨제이이앤엠(주)     전체관람가   애니메이션,액션,어드벤처  딘 데블로이스   \n",
       "7      마블 스튜디오  소니픽쳐스릴리징월트디즈니스튜디오스코리아(주)  12세이상관람가      액션,어드벤처,SF    제임스 건   \n",
       "8   TMS 엔터테인먼트                 씨제이이앤엠(주)  12세이상관람가  애니메이션,스릴러,어드벤처   시즈노 코분   \n",
       "\n",
       "                                                  배우  \n",
       "4  최민식,류승룡,조진웅,김명곤,진구,이정현,권율,노민우,김태훈,이승준,오타니 료헤이,...  \n",
       "5  김남길,손예진,유해진,이경영,오달수,김태우,박철민,신정근,김원해,조달환,조희봉,정성...  \n",
       "6                    제이 바루첼,제라드 버틀러,케이트 블란쳇,아메리카 페레라  \n",
       "7                 크리스 프랫,조 샐다나,데이브 바티스타,빈 디젤,브래들리 쿠퍼  \n",
       "8                                  타카야마 미나미, 히다카 노리코  \n",
       "\n",
       "[5 rows x 23 columns]"
      ]
     },
     "execution_count": 2,
     "metadata": {},
     "output_type": "execute_result"
    }
   ],
   "source": [
    "train = pd.read_pickle(\"../all_df.p\")\n",
    "train.head()"
   ]
  },
  {
   "cell_type": "markdown",
   "metadata": {},
   "source": [
    "## Preprocessing"
   ]
  },
  {
   "cell_type": "code",
   "execution_count": 3,
   "metadata": {
    "collapsed": true
   },
   "outputs": [],
   "source": [
    "from datetime import datetime\n",
    "import re"
   ]
  },
  {
   "cell_type": "code",
   "execution_count": 4,
   "metadata": {
    "collapsed": false
   },
   "outputs": [
    {
     "data": {
      "text/html": [
       "<div>\n",
       "<table border=\"1\" class=\"dataframe\">\n",
       "  <thead>\n",
       "    <tr style=\"text-align: right;\">\n",
       "      <th></th>\n",
       "      <th>날짜</th>\n",
       "      <th>순위</th>\n",
       "      <th>영화명</th>\n",
       "      <th>개봉일</th>\n",
       "      <th>누적매출액</th>\n",
       "      <th>누적관객수</th>\n",
       "      <th>스크린수</th>\n",
       "      <th>상영횟수</th>\n",
       "    </tr>\n",
       "  </thead>\n",
       "  <tbody>\n",
       "    <tr>\n",
       "      <th>4</th>\n",
       "      <td>2014년 08월 07일(목)</td>\n",
       "      <td>1</td>\n",
       "      <td>명량</td>\n",
       "      <td>2014-07-30 00:00:00</td>\n",
       "      <td>61033902816</td>\n",
       "      <td>7982455</td>\n",
       "      <td>1239</td>\n",
       "      <td>6776</td>\n",
       "    </tr>\n",
       "    <tr>\n",
       "      <th>5</th>\n",
       "      <td>2014년 08월 07일(목)</td>\n",
       "      <td>2</td>\n",
       "      <td>해적: 바다로 간 산적</td>\n",
       "      <td>2014-08-06 00:00:00</td>\n",
       "      <td>4137374300</td>\n",
       "      <td>563642</td>\n",
       "      <td>795</td>\n",
       "      <td>3932</td>\n",
       "    </tr>\n",
       "    <tr>\n",
       "      <th>6</th>\n",
       "      <td>2014년 08월 07일(목)</td>\n",
       "      <td>3</td>\n",
       "      <td>드래곤 길들이기 2</td>\n",
       "      <td>2014-07-23 00:00:00</td>\n",
       "      <td>19775433889</td>\n",
       "      <td>2460400</td>\n",
       "      <td>423</td>\n",
       "      <td>1016</td>\n",
       "    </tr>\n",
       "    <tr>\n",
       "      <th>7</th>\n",
       "      <td>2014년 08월 07일(목)</td>\n",
       "      <td>4</td>\n",
       "      <td>가디언즈 오브 갤럭시</td>\n",
       "      <td>2014-07-31 00:00:00</td>\n",
       "      <td>7187518884</td>\n",
       "      <td>856783</td>\n",
       "      <td>344</td>\n",
       "      <td>844</td>\n",
       "    </tr>\n",
       "    <tr>\n",
       "      <th>8</th>\n",
       "      <td>2014년 08월 07일(목)</td>\n",
       "      <td>5</td>\n",
       "      <td>명탐정 코난 : 이차원의 저격수</td>\n",
       "      <td>2014-08-06 00:00:00</td>\n",
       "      <td>433027400</td>\n",
       "      <td>63785</td>\n",
       "      <td>261</td>\n",
       "      <td>514</td>\n",
       "    </tr>\n",
       "  </tbody>\n",
       "</table>\n",
       "</div>"
      ],
      "text/plain": [
       "                 날짜 순위                영화명                  개봉일        누적매출액  \\\n",
       "4  2014년 08월 07일(목)  1                 명량  2014-07-30 00:00:00  61033902816   \n",
       "5  2014년 08월 07일(목)  2       해적: 바다로 간 산적  2014-08-06 00:00:00   4137374300   \n",
       "6  2014년 08월 07일(목)  3         드래곤 길들이기 2  2014-07-23 00:00:00  19775433889   \n",
       "7  2014년 08월 07일(목)  4        가디언즈 오브 갤럭시  2014-07-31 00:00:00   7187518884   \n",
       "8  2014년 08월 07일(목)  5  명탐정 코난 : 이차원의 저격수  2014-08-06 00:00:00    433027400   \n",
       "\n",
       "     누적관객수  스크린수  상영횟수  \n",
       "4  7982455  1239  6776  \n",
       "5   563642   795  3932  \n",
       "6  2460400   423  1016  \n",
       "7   856783   344   844  \n",
       "8    63785   261   514  "
      ]
     },
     "execution_count": 4,
     "metadata": {},
     "output_type": "execute_result"
    }
   ],
   "source": [
    "train = train.drop(['매출액','매출액 점유율','매출액증감 (전일대비)','매출액증감율 (전일대비)','관객수','관객수증감 (전일대비)',\n",
    "                    '관객수증감율 (전일대비)','대표국적','국적','제작사','배급사','등급','장르','감독','배우'], axis=1)\n",
    "train = train.dropna()\n",
    "train.head()"
   ]
  },
  {
   "cell_type": "code",
   "execution_count": 5,
   "metadata": {
    "collapsed": false,
    "scrolled": true
   },
   "outputs": [
    {
     "data": {
      "text/plain": [
       "4    2014-08-07\n",
       "5    2014-08-07\n",
       "6    2014-08-07\n",
       "Name: 날짜, dtype: object"
      ]
     },
     "execution_count": 5,
     "metadata": {},
     "output_type": "execute_result"
    }
   ],
   "source": [
    "train[\"날짜\"] = train[\"날짜\"].apply(lambda date: re.sub('[(년월화수목금토일)]', '', date))\n",
    "train[\"날짜\"] = train[\"날짜\"].apply(lambda date: date.replace(\" \", \"-\"))\n",
    "train[\"날짜\"].head(3)"
   ]
  },
  {
   "cell_type": "code",
   "execution_count": 6,
   "metadata": {
    "collapsed": false
   },
   "outputs": [
    {
     "data": {
      "text/plain": [
       "4   2014-07-30\n",
       "5   2014-08-06\n",
       "6   2014-07-23\n",
       "7   2014-07-31\n",
       "8   2014-08-06\n",
       "Name: 개봉일, dtype: datetime64[ns]"
      ]
     },
     "execution_count": 6,
     "metadata": {},
     "output_type": "execute_result"
    }
   ],
   "source": [
    "train[\"개봉일\"] = pd.to_datetime(train[\"개봉일\"], errors='coerce')\n",
    "train[\"개봉일\"].head()"
   ]
  },
  {
   "cell_type": "code",
   "execution_count": 7,
   "metadata": {
    "collapsed": false
   },
   "outputs": [
    {
     "data": {
      "text/plain": [
       "4        8 days\n",
       "5        1 days\n",
       "6       15 days\n",
       "7        7 days\n",
       "8        1 days\n",
       "9       15 days\n",
       "10       1 days\n",
       "11      14 days\n",
       "12       7 days\n",
       "13       0 days\n",
       "14      -6 days\n",
       "15       0 days\n",
       "16      -6 days\n",
       "17       0 days\n",
       "18       7 days\n",
       "19       7 days\n",
       "20       0 days\n",
       "21     -13 days\n",
       "22       1 days\n",
       "23       1 days\n",
       "24      21 days\n",
       "25       1 days\n",
       "27      28 days\n",
       "28     -13 days\n",
       "29      77 days\n",
       "31       8 days\n",
       "33       0 days\n",
       "36      -7 days\n",
       "37      56 days\n",
       "38     504 days\n",
       "         ...   \n",
       "727     22 days\n",
       "728      1 days\n",
       "729   7909 days\n",
       "730      1 days\n",
       "732     78 days\n",
       "733     58 days\n",
       "734    128 days\n",
       "735      1 days\n",
       "737      8 days\n",
       "738   5405 days\n",
       "739     22 days\n",
       "740   7951 days\n",
       "741     51 days\n",
       "744     36 days\n",
       "745      8 days\n",
       "746     99 days\n",
       "747     15 days\n",
       "749     29 days\n",
       "750     36 days\n",
       "751     29 days\n",
       "752    695 days\n",
       "753    366 days\n",
       "754     23 days\n",
       "755     43 days\n",
       "756   7323 days\n",
       "757     50 days\n",
       "758     29 days\n",
       "759     64 days\n",
       "760      1 days\n",
       "761     43 days\n",
       "Name: 상영기간, dtype: timedelta64[ns]"
      ]
     },
     "execution_count": 7,
     "metadata": {},
     "output_type": "execute_result"
    }
   ],
   "source": [
    "train[\"상영기간\"] = pd.to_datetime(train[\"날짜\"]) - pd.to_datetime(train[\"개봉일\"])\n",
    "train[\"상영기간\"]"
   ]
  },
  {
   "cell_type": "code",
   "execution_count": 8,
   "metadata": {
    "collapsed": false
   },
   "outputs": [
    {
     "data": {
      "text/html": [
       "<div>\n",
       "<table border=\"1\" class=\"dataframe\">\n",
       "  <thead>\n",
       "    <tr style=\"text-align: right;\">\n",
       "      <th></th>\n",
       "      <th>날짜</th>\n",
       "      <th>순위</th>\n",
       "      <th>영화명</th>\n",
       "      <th>개봉일</th>\n",
       "      <th>누적매출액</th>\n",
       "      <th>누적관객수</th>\n",
       "      <th>스크린수</th>\n",
       "      <th>상영횟수</th>\n",
       "      <th>상영기간</th>\n",
       "    </tr>\n",
       "  </thead>\n",
       "  <tbody>\n",
       "    <tr>\n",
       "      <th>4</th>\n",
       "      <td>2014-08-07</td>\n",
       "      <td>1</td>\n",
       "      <td>명량</td>\n",
       "      <td>2014-07-30</td>\n",
       "      <td>61033902816</td>\n",
       "      <td>7982455</td>\n",
       "      <td>1239</td>\n",
       "      <td>6776</td>\n",
       "      <td>8</td>\n",
       "    </tr>\n",
       "    <tr>\n",
       "      <th>5</th>\n",
       "      <td>2014-08-07</td>\n",
       "      <td>2</td>\n",
       "      <td>해적: 바다로 간 산적</td>\n",
       "      <td>2014-08-06</td>\n",
       "      <td>4137374300</td>\n",
       "      <td>563642</td>\n",
       "      <td>795</td>\n",
       "      <td>3932</td>\n",
       "      <td>1</td>\n",
       "    </tr>\n",
       "    <tr>\n",
       "      <th>6</th>\n",
       "      <td>2014-08-07</td>\n",
       "      <td>3</td>\n",
       "      <td>드래곤 길들이기 2</td>\n",
       "      <td>2014-07-23</td>\n",
       "      <td>19775433889</td>\n",
       "      <td>2460400</td>\n",
       "      <td>423</td>\n",
       "      <td>1016</td>\n",
       "      <td>15</td>\n",
       "    </tr>\n",
       "    <tr>\n",
       "      <th>7</th>\n",
       "      <td>2014-08-07</td>\n",
       "      <td>4</td>\n",
       "      <td>가디언즈 오브 갤럭시</td>\n",
       "      <td>2014-07-31</td>\n",
       "      <td>7187518884</td>\n",
       "      <td>856783</td>\n",
       "      <td>344</td>\n",
       "      <td>844</td>\n",
       "      <td>7</td>\n",
       "    </tr>\n",
       "    <tr>\n",
       "      <th>8</th>\n",
       "      <td>2014-08-07</td>\n",
       "      <td>5</td>\n",
       "      <td>명탐정 코난 : 이차원의 저격수</td>\n",
       "      <td>2014-08-06</td>\n",
       "      <td>433027400</td>\n",
       "      <td>63785</td>\n",
       "      <td>261</td>\n",
       "      <td>514</td>\n",
       "      <td>1</td>\n",
       "    </tr>\n",
       "  </tbody>\n",
       "</table>\n",
       "</div>"
      ],
      "text/plain": [
       "           날짜 순위                영화명        개봉일        누적매출액    누적관객수  스크린수  \\\n",
       "4  2014-08-07  1                 명량 2014-07-30  61033902816  7982455  1239   \n",
       "5  2014-08-07  2       해적: 바다로 간 산적 2014-08-06   4137374300   563642   795   \n",
       "6  2014-08-07  3         드래곤 길들이기 2 2014-07-23  19775433889  2460400   423   \n",
       "7  2014-08-07  4        가디언즈 오브 갤럭시 2014-07-31   7187518884   856783   344   \n",
       "8  2014-08-07  5  명탐정 코난 : 이차원의 저격수 2014-08-06    433027400    63785   261   \n",
       "\n",
       "   상영횟수  상영기간  \n",
       "4  6776     8  \n",
       "5  3932     1  \n",
       "6  1016    15  \n",
       "7   844     7  \n",
       "8   514     1  "
      ]
     },
     "execution_count": 8,
     "metadata": {},
     "output_type": "execute_result"
    }
   ],
   "source": [
    "train = train[train[\"상영기간\"] >= '0 days']\n",
    "train = train[train[\"상영기간\"] < '5000 days']\n",
    "train[\"상영기간\"] = train[\"상영기간\"].astype('timedelta64[D]').astype(int)\n",
    "train.head()"
   ]
  },
  {
   "cell_type": "code",
   "execution_count": 17,
   "metadata": {
    "collapsed": false
   },
   "outputs": [],
   "source": [
    "feature_names = [\"누적매출액\", \"상영횟수\", \"상영기간\"]\n",
    "label_name = \"누적관객수\"\n",
    "\n",
    "train_X = train[feature_names]\n",
    "train_y = train[label_name]"
   ]
  },
  {
   "cell_type": "markdown",
   "metadata": {},
   "source": [
    "## Cross Validation Set"
   ]
  },
  {
   "cell_type": "code",
   "execution_count": 18,
   "metadata": {
    "collapsed": false
   },
   "outputs": [],
   "source": [
    "from sklearn.cross_validation import train_test_split\n",
    "from sklearn.cross_validation import cross_val_score\n",
    "from sklearn.cross_validation import KFold"
   ]
  },
  {
   "cell_type": "code",
   "execution_count": 19,
   "metadata": {
    "collapsed": true
   },
   "outputs": [],
   "source": [
    "def RMSE(y, ypred):\n",
    "    rmse = np.sqrt(np.mean((y - ypred) ** 2))\n",
    "    return rmse"
   ]
  },
  {
   "cell_type": "code",
   "execution_count": 20,
   "metadata": {
    "collapsed": false
   },
   "outputs": [
    {
     "data": {
      "text/plain": [
       "648    67196\n",
       "356       68\n",
       "501      181\n",
       "416      245\n",
       "220     2436\n",
       "Name: 누적관객수, dtype: object"
      ]
     },
     "execution_count": 20,
     "metadata": {},
     "output_type": "execute_result"
    }
   ],
   "source": [
    "X_train, X_test, y_train, y_test = train_test_split(train_X, train_y, test_size=0.3)\n",
    "y_test.head()"
   ]
  },
  {
   "cell_type": "markdown",
   "metadata": {},
   "source": [
    "## Predict"
   ]
  },
  {
   "cell_type": "code",
   "execution_count": 21,
   "metadata": {
    "collapsed": true
   },
   "outputs": [],
   "source": [
    "from sklearn.svm import LinearSVR\n",
    "from sklearn.ensemble import RandomForestRegressor"
   ]
  },
  {
   "cell_type": "code",
   "execution_count": 22,
   "metadata": {
    "collapsed": false
   },
   "outputs": [
    {
     "data": {
      "text/plain": [
       "LinearSVR(C=1.0, dual=True, epsilon=0.0, fit_intercept=True,\n",
       "     intercept_scaling=1.0, loss='epsilon_insensitive', max_iter=100,\n",
       "     random_state=None, tol=0.0001, verbose=0)"
      ]
     },
     "execution_count": 22,
     "metadata": {},
     "output_type": "execute_result"
    }
   ],
   "source": [
    "model_svr = LinearSVR(C=1.0, max_iter=100)\n",
    "model_rfr = RandomForestRegressor(n_estimators=100, n_jobs=-1)\n",
    "model_rfr.fit(X_train, y_train)\n",
    "model_svr.fit(X_train, y_train)"
   ]
  },
  {
   "cell_type": "code",
   "execution_count": 23,
   "metadata": {
    "collapsed": false
   },
   "outputs": [
    {
     "data": {
      "text/plain": [
       "array([  6.73978200e+04,   7.32600000e+01,   2.08530000e+02, ...,\n",
       "         2.82993818e+06,   4.55969730e+05,   6.87455000e+03])"
      ]
     },
     "execution_count": 23,
     "metadata": {},
     "output_type": "execute_result"
    }
   ],
   "source": [
    "y_pred_rfr = model_rfr.predict(X_test)\n",
    "y_pred_svr = model_svr.predict(X_test)\n",
    "y_pred_rfr"
   ]
  },
  {
   "cell_type": "code",
   "execution_count": 24,
   "metadata": {
    "collapsed": false
   },
   "outputs": [
    {
     "name": "stdout",
     "output_type": "stream",
     "text": [
      "RandomForest RMSE = 31817.049237\n",
      "LinearSVR RMSE = 161836.026577\n"
     ]
    }
   ],
   "source": [
    "error_rfr = RMSE(y_test, y_pred_rfr)\n",
    "error_svr = RMSE(y_test, y_pred_svr)\n",
    "print(\"RandomForest RMSE = {0:.6f}\".format(error_rfr))\n",
    "print(\"LinearSVR RMSE = {0:.6f}\".format(error_svr))"
   ]
  },
  {
   "cell_type": "markdown",
   "metadata": {},
   "source": [
    "## Result\n",
    "- RandomForest RMSE = 31817.049237\n",
    "- LinearSVR RMSE = 161836.026577"
   ]
  }
 ],
 "metadata": {
  "anaconda-cloud": {},
  "kernelspec": {
   "display_name": "Python [Root]",
   "language": "python",
   "name": "Python [Root]"
  },
  "language_info": {
   "codemirror_mode": {
    "name": "ipython",
    "version": 3
   },
   "file_extension": ".py",
   "mimetype": "text/x-python",
   "name": "python",
   "nbconvert_exporter": "python",
   "pygments_lexer": "ipython3",
   "version": "3.5.2"
  }
 },
 "nbformat": 4,
 "nbformat_minor": 0
}
