{
 "cells": [
  {
   "cell_type": "markdown",
   "metadata": {},
   "source": [
    "# Baseline script of San Francisco Crime Classification\n",
    "\n",
    "For analysis model and datasets."
   ]
  },
  {
   "cell_type": "code",
   "execution_count": 1,
   "metadata": {
    "collapsed": true
   },
   "outputs": [],
   "source": [
    "import numpy as np\n",
    "import pandas as pd"
   ]
  },
  {
   "cell_type": "markdown",
   "metadata": {},
   "source": [
    "## Load Data"
   ]
  },
  {
   "cell_type": "code",
   "execution_count": 9,
   "metadata": {
    "collapsed": false,
    "scrolled": true
   },
   "outputs": [
    {
     "data": {
      "text/html": [
       "<div>\n",
       "<table border=\"1\" class=\"dataframe\">\n",
       "  <thead>\n",
       "    <tr style=\"text-align: right;\">\n",
       "      <th></th>\n",
       "      <th>날짜</th>\n",
       "      <th>순위</th>\n",
       "      <th>영화명</th>\n",
       "      <th>개봉일</th>\n",
       "      <th>매출액</th>\n",
       "      <th>매출액 점유율</th>\n",
       "      <th>매출액증감 (전일대비)</th>\n",
       "      <th>매출액증감율 (전일대비)</th>\n",
       "      <th>누적매출액</th>\n",
       "      <th>관객수</th>\n",
       "      <th>...</th>\n",
       "      <th>스크린수</th>\n",
       "      <th>상영횟수</th>\n",
       "      <th>대표국적</th>\n",
       "      <th>국적</th>\n",
       "      <th>제작사</th>\n",
       "      <th>배급사</th>\n",
       "      <th>등급</th>\n",
       "      <th>장르</th>\n",
       "      <th>감독</th>\n",
       "      <th>배우</th>\n",
       "    </tr>\n",
       "  </thead>\n",
       "  <tbody>\n",
       "    <tr>\n",
       "      <th>4</th>\n",
       "      <td>2014년 08월 07일(목)</td>\n",
       "      <td>1</td>\n",
       "      <td>명량</td>\n",
       "      <td>2014-07-30 00:00:00</td>\n",
       "      <td>4892511700</td>\n",
       "      <td>0.595</td>\n",
       "      <td>-380933700</td>\n",
       "      <td>-0.1</td>\n",
       "      <td>61033902816</td>\n",
       "      <td>652776</td>\n",
       "      <td>...</td>\n",
       "      <td>1239</td>\n",
       "      <td>6776</td>\n",
       "      <td>한국</td>\n",
       "      <td>한국</td>\n",
       "      <td>(주)빅스톤픽쳐스</td>\n",
       "      <td>씨제이이앤엠(주)</td>\n",
       "      <td>15세이상관람가</td>\n",
       "      <td>사극,액션</td>\n",
       "      <td>김한민</td>\n",
       "      <td>최민식,류승룡,조진웅,김명곤,진구,이정현,권율,노민우,김태훈,이승준,오타니 료헤이,...</td>\n",
       "    </tr>\n",
       "    <tr>\n",
       "      <th>5</th>\n",
       "      <td>2014년 08월 07일(목)</td>\n",
       "      <td>2</td>\n",
       "      <td>해적: 바다로 간 산적</td>\n",
       "      <td>2014-08-06 00:00:00</td>\n",
       "      <td>1890503200</td>\n",
       "      <td>0.23</td>\n",
       "      <td>-130889400</td>\n",
       "      <td>-0.1</td>\n",
       "      <td>4137374300</td>\n",
       "      <td>254862</td>\n",
       "      <td>...</td>\n",
       "      <td>795</td>\n",
       "      <td>3932</td>\n",
       "      <td>한국</td>\n",
       "      <td>한국</td>\n",
       "      <td>(주)하리마오픽쳐스</td>\n",
       "      <td>롯데쇼핑㈜롯데엔터테인먼트</td>\n",
       "      <td>12세이상관람가</td>\n",
       "      <td>어드벤처</td>\n",
       "      <td>이석훈</td>\n",
       "      <td>김남길,손예진,유해진,이경영,오달수,김태우,박철민,신정근,김원해,조달환,조희봉,정성...</td>\n",
       "    </tr>\n",
       "    <tr>\n",
       "      <th>6</th>\n",
       "      <td>2014년 08월 07일(목)</td>\n",
       "      <td>3</td>\n",
       "      <td>드래곤 길들이기 2</td>\n",
       "      <td>2014-07-23 00:00:00</td>\n",
       "      <td>437352300</td>\n",
       "      <td>0.053</td>\n",
       "      <td>-27892900</td>\n",
       "      <td>-0.1</td>\n",
       "      <td>19775433889</td>\n",
       "      <td>58182</td>\n",
       "      <td>...</td>\n",
       "      <td>423</td>\n",
       "      <td>1016</td>\n",
       "      <td>미국</td>\n",
       "      <td>미국</td>\n",
       "      <td>드림웍스 애니메이션</td>\n",
       "      <td>씨제이이앤엠(주)</td>\n",
       "      <td>전체관람가</td>\n",
       "      <td>애니메이션,액션,어드벤처</td>\n",
       "      <td>딘 데블로이스</td>\n",
       "      <td>제이 바루첼,제라드 버틀러,케이트 블란쳇,아메리카 페레라</td>\n",
       "    </tr>\n",
       "  </tbody>\n",
       "</table>\n",
       "<p>3 rows × 23 columns</p>\n",
       "</div>"
      ],
      "text/plain": [
       "                 날짜 순위           영화명                  개봉일         매출액 매출액 점유율  \\\n",
       "4  2014년 08월 07일(목)  1            명량  2014-07-30 00:00:00  4892511700   0.595   \n",
       "5  2014년 08월 07일(목)  2  해적: 바다로 간 산적  2014-08-06 00:00:00  1890503200    0.23   \n",
       "6  2014년 08월 07일(목)  3    드래곤 길들이기 2  2014-07-23 00:00:00   437352300   0.053   \n",
       "\n",
       "  매출액증감 (전일대비) 매출액증감율 (전일대비)        누적매출액     관객수  \\\n",
       "4   -380933700          -0.1  61033902816  652776   \n",
       "5   -130889400          -0.1   4137374300  254862   \n",
       "6    -27892900          -0.1  19775433889   58182   \n",
       "\n",
       "                         ...                          스크린수  상영횟수 대표국적  국적  \\\n",
       "4                        ...                          1239  6776   한국  한국   \n",
       "5                        ...                           795  3932   한국  한국   \n",
       "6                        ...                           423  1016   미국  미국   \n",
       "\n",
       "          제작사            배급사        등급             장르       감독  \\\n",
       "4   (주)빅스톤픽쳐스      씨제이이앤엠(주)  15세이상관람가          사극,액션      김한민   \n",
       "5  (주)하리마오픽쳐스  롯데쇼핑㈜롯데엔터테인먼트  12세이상관람가           어드벤처      이석훈   \n",
       "6  드림웍스 애니메이션      씨제이이앤엠(주)     전체관람가  애니메이션,액션,어드벤처  딘 데블로이스   \n",
       "\n",
       "                                                  배우  \n",
       "4  최민식,류승룡,조진웅,김명곤,진구,이정현,권율,노민우,김태훈,이승준,오타니 료헤이,...  \n",
       "5  김남길,손예진,유해진,이경영,오달수,김태우,박철민,신정근,김원해,조달환,조희봉,정성...  \n",
       "6                    제이 바루첼,제라드 버틀러,케이트 블란쳇,아메리카 페레라  \n",
       "\n",
       "[3 rows x 23 columns]"
      ]
     },
     "execution_count": 9,
     "metadata": {},
     "output_type": "execute_result"
    }
   ],
   "source": [
    "train = pd.read_pickle(\"../all_df.p\")\n",
    "train.head(3)"
   ]
  },
  {
   "cell_type": "code",
   "execution_count": 30,
   "metadata": {
    "collapsed": true
   },
   "outputs": [],
   "source": [
    "feature_names = [\"누적매출액\"]\n",
    "label_name = \"누적관객수\"\n",
    "\n",
    "train_X = train[feature_names]\n",
    "train_y = train[label_name]"
   ]
  },
  {
   "cell_type": "markdown",
   "metadata": {},
   "source": [
    "## Score"
   ]
  },
  {
   "cell_type": "code",
   "execution_count": 31,
   "metadata": {
    "collapsed": true
   },
   "outputs": [],
   "source": [
    "from sklearn.svm import LinearSVR\n",
    "from sklearn.ensemble import RandomForestRegressor\n",
    "from sklearn.linear_model import LinearRegression\n",
    "import matplotlib.pyplot as plt\n",
    "\n",
    "from sklearn.cross_validation import cross_val_score\n",
    "from sklearn.cross_validation import KFold"
   ]
  },
  {
   "cell_type": "code",
   "execution_count": 41,
   "metadata": {
    "collapsed": false,
    "scrolled": true
   },
   "outputs": [],
   "source": [
    "svr = LinearSVR(C=1.0, max_iter=100)\n",
    "rfr = RandomForestRegressor(n_estimators=10, n_jobs=-1)"
   ]
  },
  {
   "cell_type": "code",
   "execution_count": 43,
   "metadata": {
    "collapsed": false
   },
   "outputs": [
    {
     "name": "stdout",
     "output_type": "stream",
     "text": [
      "LinearSVR = 2794.182578\n",
      "RandomForestRegressor = 820.210000\n"
     ]
    }
   ],
   "source": [
    "X = np.array(train_X)\n",
    "Y = np.array(train_y)\n",
    "\n",
    "K = KFold(len(Y), n_folds=5)\n",
    "scores_svr = cross_val_score(svr, X, Y, scoring='median_absolute_error', cv=K)\n",
    "scores_rfr = cross_val_score(rfr, X, Y, scoring='median_absolute_error', cv=K)\n",
    "print(\"LinearSVR = {0:.6f}\".format(-1.0 * scores_svr.mean()))\n",
    "print(\"RandomForestRegressor = {0:.6f}\".format(-1.0 * scores_rfr.mean()))"
   ]
  },
  {
   "cell_type": "code",
   "execution_count": 29,
   "metadata": {
    "collapsed": false
   },
   "outputs": [
    {
     "name": "stdout",
     "output_type": "stream",
     "text": [
      "LinearSVR = 2220.769626\n",
      "RandomForestRegressor = 814.630000\n",
      "LinearRegression = 705.294221\n"
     ]
    }
   ],
   "source": [
    "score_svr = cross_val_score(svr, train_X, train_y, scoring='median_absolute_error', cv=5).mean()\n",
    "score_rfr = cross_val_score(rfr, train_X, train_y, scoring='median_absolute_error', cv=5).mean()\n",
    "score_lr = cross_val_score(lr, train_X, train_y, scoring='median_absolute_error', cv=5).mean()\n",
    "\n",
    "print(\"LinearSVR = {0:.6f}\".format(-1.0 * score_svr))\n",
    "print(\"RandomForestRegressor = {0:.6f}\".format(-1.0 * score_rfr))\n",
    "print(\"LinearRegression = {0:.6f}\".format(-1.0 * score_lr))"
   ]
  },
  {
   "cell_type": "markdown",
   "metadata": {},
   "source": [
    "## Graph"
   ]
  },
  {
   "cell_type": "code",
   "execution_count": 17,
   "metadata": {
    "collapsed": false
   },
   "outputs": [],
   "source": [
    "plt.scatter(train_X, train_y, c='k', label='data')\n",
    "plt.hold('on')\n",
    "# plt.plot(train_X, y_svr, c='r', label='Linear SVR')\n",
    "plt.xlabel('data')\n",
    "plt.ylabel('target')\n",
    "plt.title('Support Vector Regression')\n",
    "plt.legend()\n",
    "plt.show()"
   ]
  },
  {
   "cell_type": "markdown",
   "metadata": {},
   "source": [
    "## Result\n",
    "- baseline : 3090.612921"
   ]
  }
 ],
 "metadata": {
  "anaconda-cloud": {},
  "kernelspec": {
   "display_name": "Python [Root]",
   "language": "python",
   "name": "Python [Root]"
  },
  "language_info": {
   "codemirror_mode": {
    "name": "ipython",
    "version": 3
   },
   "file_extension": ".py",
   "mimetype": "text/x-python",
   "name": "python",
   "nbconvert_exporter": "python",
   "pygments_lexer": "ipython3",
   "version": "3.5.2"
  }
 },
 "nbformat": 4,
 "nbformat_minor": 0
}
