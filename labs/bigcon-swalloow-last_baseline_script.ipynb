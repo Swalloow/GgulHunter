{
 "cells": [
  {
   "cell_type": "markdown",
   "metadata": {},
   "source": [
    "# Last Baseline script of Big Contest\n",
    "\n",
    "Last Baseline script. Hope this helps ours."
   ]
  },
  {
   "cell_type": "code",
   "execution_count": 1,
   "metadata": {
    "collapsed": true
   },
   "outputs": [],
   "source": [
    "import numpy as np\n",
    "import pandas as pd"
   ]
  },
  {
   "cell_type": "markdown",
   "metadata": {},
   "source": [
    "# Load Data"
   ]
  },
  {
   "cell_type": "code",
   "execution_count": 2,
   "metadata": {
    "collapsed": false,
    "scrolled": true
   },
   "outputs": [
    {
     "data": {
      "text/html": [
       "<div>\n",
       "<table border=\"1\" class=\"dataframe\">\n",
       "  <thead>\n",
       "    <tr style=\"text-align: right;\">\n",
       "      <th></th>\n",
       "      <th>날짜</th>\n",
       "      <th>순위</th>\n",
       "      <th>영화명</th>\n",
       "      <th>개봉일</th>\n",
       "      <th>매출액</th>\n",
       "      <th>매출액 점유율</th>\n",
       "      <th>매출액증감 (전일대비)</th>\n",
       "      <th>매출액증감율 (전일대비)</th>\n",
       "      <th>누적매출액</th>\n",
       "      <th>관객수</th>\n",
       "      <th>...</th>\n",
       "      <th>스크린수</th>\n",
       "      <th>상영횟수</th>\n",
       "      <th>대표국적</th>\n",
       "      <th>국적</th>\n",
       "      <th>제작사</th>\n",
       "      <th>배급사</th>\n",
       "      <th>등급</th>\n",
       "      <th>장르</th>\n",
       "      <th>감독</th>\n",
       "      <th>배우</th>\n",
       "    </tr>\n",
       "  </thead>\n",
       "  <tbody>\n",
       "    <tr>\n",
       "      <th>0</th>\n",
       "      <td>2016년 07월 06일(수)</td>\n",
       "      <td>1</td>\n",
       "      <td>봉이 김선달</td>\n",
       "      <td>2016-07-06 00:00:00</td>\n",
       "      <td>1022864200</td>\n",
       "      <td>0.332</td>\n",
       "      <td>1018335200</td>\n",
       "      <td>224.8</td>\n",
       "      <td>1127087200</td>\n",
       "      <td>136622</td>\n",
       "      <td>...</td>\n",
       "      <td>747</td>\n",
       "      <td>3391</td>\n",
       "      <td>한국</td>\n",
       "      <td>한국</td>\n",
       "      <td>(주)엠픽처스,(주)에스엔케이픽처스</td>\n",
       "      <td>씨제이이앤엠(주)</td>\n",
       "      <td>12세이상관람가</td>\n",
       "      <td>사극</td>\n",
       "      <td>박대민</td>\n",
       "      <td>유승호,조재현,고창석,라미란,시우민,연우진,전석호,서예지,주영호</td>\n",
       "    </tr>\n",
       "    <tr>\n",
       "      <th>1</th>\n",
       "      <td>2016년 07월 06일(수)</td>\n",
       "      <td>2</td>\n",
       "      <td>굿바이 싱글</td>\n",
       "      <td>2016-06-29 00:00:00</td>\n",
       "      <td>695297000</td>\n",
       "      <td>0.225</td>\n",
       "      <td>-276778500</td>\n",
       "      <td>-0.3</td>\n",
       "      <td>9864818015</td>\n",
       "      <td>91390</td>\n",
       "      <td>...</td>\n",
       "      <td>650</td>\n",
       "      <td>2757</td>\n",
       "      <td>한국</td>\n",
       "      <td>한국</td>\n",
       "      <td>호두앤유 엔터테인먼트(주),(주)영화사람</td>\n",
       "      <td>(주)쇼박스</td>\n",
       "      <td>15세이상관람가</td>\n",
       "      <td>코미디,드라마</td>\n",
       "      <td>김태곤</td>\n",
       "      <td>김혜수,마동석,김현수,김용건,서현진,곽시양,전석호,이미도,이성민,황미영</td>\n",
       "    </tr>\n",
       "    <tr>\n",
       "      <th>2</th>\n",
       "      <td>2016년 07월 06일(수)</td>\n",
       "      <td>3</td>\n",
       "      <td>도리를 찾아서</td>\n",
       "      <td>2016-07-06 00:00:00</td>\n",
       "      <td>617720600</td>\n",
       "      <td>0.2</td>\n",
       "      <td>614570600</td>\n",
       "      <td>195.1</td>\n",
       "      <td>641605600</td>\n",
       "      <td>76938</td>\n",
       "      <td>...</td>\n",
       "      <td>728</td>\n",
       "      <td>3446</td>\n",
       "      <td>미국</td>\n",
       "      <td>미국</td>\n",
       "      <td>NaN</td>\n",
       "      <td>월트디즈니컴퍼니코리아(주)</td>\n",
       "      <td>전체관람가</td>\n",
       "      <td>애니메이션,어드벤처,코미디</td>\n",
       "      <td>앤드류 스탠튼</td>\n",
       "      <td>엘렌 드제너스,알버트 브룩스,다이안 키튼</td>\n",
       "    </tr>\n",
       "  </tbody>\n",
       "</table>\n",
       "<p>3 rows × 23 columns</p>\n",
       "</div>"
      ],
      "text/plain": [
       "                 날짜 순위      영화명                  개봉일         매출액 매출액 점유율  \\\n",
       "0  2016년 07월 06일(수)  1   봉이 김선달  2016-07-06 00:00:00  1022864200   0.332   \n",
       "1  2016년 07월 06일(수)  2   굿바이 싱글  2016-06-29 00:00:00   695297000   0.225   \n",
       "2  2016년 07월 06일(수)  3  도리를 찾아서  2016-07-06 00:00:00   617720600     0.2   \n",
       "\n",
       "  매출액증감 (전일대비) 매출액증감율 (전일대비)       누적매출액     관객수  \\\n",
       "0   1018335200         224.8  1127087200  136622   \n",
       "1   -276778500          -0.3  9864818015   91390   \n",
       "2    614570600         195.1   641605600   76938   \n",
       "\n",
       "                    ...                    스크린수  상영횟수 대표국적  국적  \\\n",
       "0                   ...                     747  3391   한국  한국   \n",
       "1                   ...                     650  2757   한국  한국   \n",
       "2                   ...                     728  3446   미국  미국   \n",
       "\n",
       "                      제작사             배급사        등급              장르       감독  \\\n",
       "0     (주)엠픽처스,(주)에스엔케이픽처스       씨제이이앤엠(주)  12세이상관람가              사극      박대민   \n",
       "1  호두앤유 엔터테인먼트(주),(주)영화사람          (주)쇼박스  15세이상관람가         코미디,드라마      김태곤   \n",
       "2                     NaN  월트디즈니컴퍼니코리아(주)     전체관람가  애니메이션,어드벤처,코미디  앤드류 스탠튼   \n",
       "\n",
       "                                        배우  \n",
       "0      유승호,조재현,고창석,라미란,시우민,연우진,전석호,서예지,주영호  \n",
       "1  김혜수,마동석,김현수,김용건,서현진,곽시양,전석호,이미도,이성민,황미영  \n",
       "2                   엘렌 드제너스,알버트 브룩스,다이안 키튼  \n",
       "\n",
       "[3 rows x 23 columns]"
      ]
     },
     "execution_count": 2,
     "metadata": {},
     "output_type": "execute_result"
    }
   ],
   "source": [
    "train = pd.read_pickle(\"../all_df.p\")\n",
    "train.head(3)"
   ]
  },
  {
   "cell_type": "code",
   "execution_count": 3,
   "metadata": {
    "collapsed": false
   },
   "outputs": [
    {
     "data": {
      "text/html": [
       "<div>\n",
       "<table border=\"1\" class=\"dataframe\">\n",
       "  <thead>\n",
       "    <tr style=\"text-align: right;\">\n",
       "      <th></th>\n",
       "      <th>날짜</th>\n",
       "      <th>영화명</th>\n",
       "      <th>개봉일</th>\n",
       "      <th>대표국적</th>\n",
       "      <th>국적</th>\n",
       "      <th>제작사</th>\n",
       "      <th>배급사</th>\n",
       "      <th>등급</th>\n",
       "      <th>장르</th>\n",
       "      <th>감독</th>\n",
       "      <th>배우</th>\n",
       "    </tr>\n",
       "  </thead>\n",
       "  <tbody>\n",
       "    <tr>\n",
       "      <th>0</th>\n",
       "      <td>2016년 09월 30일(금)</td>\n",
       "      <td>고산자, 대동여지도</td>\n",
       "      <td>2016-09-07</td>\n",
       "      <td>한국</td>\n",
       "      <td>한국</td>\n",
       "      <td>(주)시네마서비스</td>\n",
       "      <td>씨제이이앤엠(주)</td>\n",
       "      <td>전체관람가</td>\n",
       "      <td>사극</td>\n",
       "      <td>강우석</td>\n",
       "      <td>차승원,유준상,김인권,남지현,신동미,남경읍,태인호,공형진,김종수</td>\n",
       "    </tr>\n",
       "    <tr>\n",
       "      <th>1</th>\n",
       "      <td>2016년 09월 30일(금)</td>\n",
       "      <td>매그니피센트 7</td>\n",
       "      <td>2016-09-14</td>\n",
       "      <td>미국</td>\n",
       "      <td>미국</td>\n",
       "      <td></td>\n",
       "      <td>유니버설픽쳐스인터내셔널 코리아(유)</td>\n",
       "      <td>15세이상관람가</td>\n",
       "      <td>액션, 서부극(웨스턴)</td>\n",
       "      <td>안톤 후쿠아</td>\n",
       "      <td>덴젤 워싱턴,크리스 프랫,이병헌,에단 호크,맷 보머,빈센트 도노프리오,해일리 베넷,...</td>\n",
       "    </tr>\n",
       "    <tr>\n",
       "      <th>2</th>\n",
       "      <td>2016년 09월 30일(금)</td>\n",
       "      <td>카페 소사이어티</td>\n",
       "      <td>2016-09-14</td>\n",
       "      <td>미국</td>\n",
       "      <td>미국</td>\n",
       "      <td></td>\n",
       "      <td>CGV아트하우스</td>\n",
       "      <td>15세이상관람가</td>\n",
       "      <td>멜로/로맨스, 드라마</td>\n",
       "      <td>우디 앨런</td>\n",
       "      <td>제시 아이젠버그, 크리스틴 스튜어트, 스티브 카렐, 블레이크 라이블리</td>\n",
       "    </tr>\n",
       "  </tbody>\n",
       "</table>\n",
       "</div>"
      ],
      "text/plain": [
       "                 날짜         영화명        개봉일 대표국적  국적        제작사  \\\n",
       "0  2016년 09월 30일(금)  고산자, 대동여지도 2016-09-07   한국  한국  (주)시네마서비스   \n",
       "1  2016년 09월 30일(금)    매그니피센트 7 2016-09-14   미국  미국              \n",
       "2  2016년 09월 30일(금)    카페 소사이어티 2016-09-14   미국  미국              \n",
       "\n",
       "                   배급사        등급            장르      감독  \\\n",
       "0            씨제이이앤엠(주)     전체관람가            사극     강우석   \n",
       "1  유니버설픽쳐스인터내셔널 코리아(유)  15세이상관람가  액션, 서부극(웨스턴)  안톤 후쿠아   \n",
       "2             CGV아트하우스  15세이상관람가   멜로/로맨스, 드라마   우디 앨런   \n",
       "\n",
       "                                                  배우  \n",
       "0                차승원,유준상,김인권,남지현,신동미,남경읍,태인호,공형진,김종수  \n",
       "1  덴젤 워싱턴,크리스 프랫,이병헌,에단 호크,맷 보머,빈센트 도노프리오,해일리 베넷,...  \n",
       "2             제시 아이젠버그, 크리스틴 스튜어트, 스티브 카렐, 블레이크 라이블리  "
      ]
     },
     "execution_count": 3,
     "metadata": {},
     "output_type": "execute_result"
    }
   ],
   "source": [
    "test = pd.read_pickle(\"../test.p\")\n",
    "test"
   ]
  },
  {
   "cell_type": "markdown",
   "metadata": {},
   "source": [
    "# Feature Engineering"
   ]
  },
  {
   "cell_type": "markdown",
   "metadata": {},
   "source": [
    "- 최종 누적관객수 15만 이하 노이즈 제거\n",
    "- 상영기간 변수 추가, 상영기간 [0 - 30] 제외한 데이터 제거\n",
    "- 연휴포함 변수 추가 (설날, 추석이 포함되어 있는지 유무)\n",
    "- 영화정보 변수 추가 (대표국적, 제작사, 배급사, 등급, 장르, 감독, 배우)"
   ]
  },
  {
   "cell_type": "code",
   "execution_count": 4,
   "metadata": {
    "collapsed": true
   },
   "outputs": [],
   "source": [
    "import re\n",
    "import datetime"
   ]
  },
  {
   "cell_type": "code",
   "execution_count": 5,
   "metadata": {
    "collapsed": false
   },
   "outputs": [
    {
     "data": {
      "text/plain": [
       "(17598, 23)"
      ]
     },
     "execution_count": 5,
     "metadata": {},
     "output_type": "execute_result"
    }
   ],
   "source": [
    "name = train[train[\"누적관객수\"] >= 150000]['영화명']\n",
    "name = name.unique()\n",
    "train = train.loc[train['영화명'].isin(name)]\n",
    "train.shape"
   ]
  },
  {
   "cell_type": "markdown",
   "metadata": {},
   "source": [
    "## During Feature\n",
    "- 상영기간 : 날짜 - 개봉일\n",
    "- 상영기간 [0 - 30] 제외한 데이터 제거"
   ]
  },
  {
   "cell_type": "code",
   "execution_count": 6,
   "metadata": {
    "collapsed": false
   },
   "outputs": [],
   "source": [
    "train[\"날짜\"] = train[\"날짜\"].apply(lambda date: re.sub('[(년월화수목금토일)]', '', date))\n",
    "train[\"날짜\"] = train[\"날짜\"].apply(lambda date: date.replace(\" \", \"-\"))\n",
    "\n",
    "train[\"개봉일\"] = pd.to_datetime(train[\"개봉일\"], errors='coerce')\n",
    "\n",
    "train[\"상영기간\"] = pd.to_datetime(train[\"날짜\"]) - pd.to_datetime(train[\"개봉일\"])\n",
    "train = train.dropna(subset=['상영기간'])\n",
    "\n",
    "train = train[train[\"상영기간\"] >= '0 days']\n",
    "train = train[train[\"상영기간\"] < '30 days']\n",
    "\n",
    "train[\"상영기간\"] = train[\"상영기간\"].astype('timedelta64[D]').astype(int)"
   ]
  },
  {
   "cell_type": "markdown",
   "metadata": {},
   "source": [
    "## Holidays Feature\n",
    "- 14년 추석 : 09/07 ~ 09/10\n",
    "- 15년 설날 : 02/18 ~ 02/22\n",
    "- 15년 추석 : 09/26 ~ 09/29\n",
    "- 16년 설날 : 02/07 ~ 02/10"
   ]
  },
  {
   "cell_type": "code",
   "execution_count": 7,
   "metadata": {
    "collapsed": true
   },
   "outputs": [],
   "source": [
    "holidays = {'14_sul': {'day_start': '2014-01-30', 'day_end': '2014-02-02'},\n",
    "            '14_chu': {'day_start': '2014-09-07', 'day_end': '2014-09-10'}, \n",
    "            '15_sul': {'day_start': '2015-02-18', 'day_end': '2015-02-22'},\n",
    "            '15_chu': {'day_start': '2015-09-26', 'day_end': '2015-09-29'},\n",
    "            '16_sul': {'day_start': '2016-02-07', 'day_end': '2016-02-10'}\n",
    "           }"
   ]
  },
  {
   "cell_type": "code",
   "execution_count": 8,
   "metadata": {
    "collapsed": true
   },
   "outputs": [],
   "source": [
    "train[\"연휴포함\"] = ((holidays['14_chu'].get('day_start') > train[\"개봉일\"]) \n",
    "                 & (holidays['14_chu'].get('day_end') < train[\"날짜\"]))\n",
    "train[\"연휴포함\"] = ((holidays['15_sul'].get('day_start') > train[\"개봉일\"]) \n",
    "                 & (holidays['15_sul'].get('day_end') < train[\"날짜\"]))\n",
    "train[\"연휴포함\"] = ((holidays['15_chu'].get('day_start') > train[\"개봉일\"]) \n",
    "                 & (holidays['15_chu'].get('day_end') < train[\"날짜\"]))\n",
    "train[\"연휴포함\"] = ((holidays['16_sul'].get('day_start') > train[\"개봉일\"]) \n",
    "                 & (holidays['16_sul'].get('day_end') < train[\"날짜\"]))"
   ]
  },
  {
   "cell_type": "markdown",
   "metadata": {},
   "source": [
    "## Actors Feature\n",
    "- 정규표현식을 통해 외국인 배우 이름 반영"
   ]
  },
  {
   "cell_type": "code",
   "execution_count": 9,
   "metadata": {
    "collapsed": true
   },
   "outputs": [],
   "source": [
    "train['배우'] = train['배우'].fillna(\"\")"
   ]
  },
  {
   "cell_type": "code",
   "execution_count": 10,
   "metadata": {
    "collapsed": false
   },
   "outputs": [],
   "source": [
    "train['배우'] = train['배우'].apply(lambda name: re.sub('[123456789]', '', name))\n",
    "train['배우'] = train['배우'].apply(lambda name: str(name).replace(\" \", \"\"))\n",
    "train['배우'] = train['배우'].apply(lambda name: str(name).replace(\"-\", \"\"))\n",
    "\n",
    "test['배우'] = test['배우'].apply(lambda name: re.sub('[123456789]', '', name))\n",
    "test['배우'] = test['배우'].apply(lambda name: str(name).replace(\" \", \"\"))\n",
    "test['배우'] = test['배우'].apply(lambda name: str(name).replace(\"-\", \"\"))"
   ]
  },
  {
   "cell_type": "markdown",
   "metadata": {},
   "source": [
    "## Info Feature\n",
    "- 대표국적, 제작사, 배급사, 등급, 장르, 감독, 배우를 통합"
   ]
  },
  {
   "cell_type": "code",
   "execution_count": 11,
   "metadata": {
    "collapsed": false
   },
   "outputs": [
    {
     "data": {
      "text/plain": [
       "Index(['대표국적', '제작사', '배급사', '등급', '장르', '감독', '배우'], dtype='object')"
      ]
     },
     "execution_count": 11,
     "metadata": {},
     "output_type": "execute_result"
    }
   ],
   "source": [
    "vector_columns = test.columns.drop(['날짜', '영화명', '개봉일', '국적'])\n",
    "vector_columns"
   ]
  },
  {
   "cell_type": "code",
   "execution_count": 12,
   "metadata": {
    "collapsed": false
   },
   "outputs": [],
   "source": [
    "d_list = []\n",
    "for each in train.iterrows():\n",
    "    row = \"\"\n",
    "    for column in vector_columns.values :\n",
    "        if type(each[1][column]) == str :\n",
    "            row = row + each[1][column] + \" \"\n",
    "    d_list.append(row)"
   ]
  },
  {
   "cell_type": "code",
   "execution_count": 13,
   "metadata": {
    "collapsed": true
   },
   "outputs": [],
   "source": [
    "test_d_list = []\n",
    "for each in test.iterrows():\n",
    "    row = \"\"\n",
    "    for column in vector_columns.values :\n",
    "        if type(each[1][column]) == str :\n",
    "            row = row + each[1][column] + \" \"\n",
    "    test_d_list.append(row)"
   ]
  },
  {
   "cell_type": "code",
   "execution_count": 14,
   "metadata": {
    "collapsed": false
   },
   "outputs": [
    {
     "data": {
      "text/plain": [
       "['한국 (주)시네마서비스 씨제이이앤엠(주) 전체관람가 사극 강우석 차승원,유준상,김인권,남지현,신동미,남경읍,태인호,공형진,김종수 ',\n",
       " '미국  유니버설픽쳐스인터내셔널 코리아(유) 15세이상관람가 액션, 서부극(웨스턴) 안톤 후쿠아 덴젤워싱턴,크리스프랫,이병헌,에단호크,맷보머,빈센트도노프리오,해일리베넷,캠지갠뎃 ',\n",
       " '미국  CGV아트하우스 15세이상관람가 멜로/로맨스, 드라마 우디 앨런 제시아이젠버그,크리스틴스튜어트,스티브카렐,블레이크라이블리 ']"
      ]
     },
     "execution_count": 14,
     "metadata": {},
     "output_type": "execute_result"
    }
   ],
   "source": [
    "test_d_list"
   ]
  },
  {
   "cell_type": "markdown",
   "metadata": {},
   "source": [
    "## Vectorize\n"
   ]
  },
  {
   "cell_type": "code",
   "execution_count": 15,
   "metadata": {
    "collapsed": true
   },
   "outputs": [],
   "source": [
    "from sklearn.feature_extraction.text import TfidfVectorizer\n",
    "from scipy.sparse import csr_matrix, vstack, hstack"
   ]
  },
  {
   "cell_type": "code",
   "execution_count": 16,
   "metadata": {
    "collapsed": false
   },
   "outputs": [],
   "source": [
    "vectorizer = TfidfVectorizer()\n",
    "x_list = vectorizer.fit_transform(d_list)"
   ]
  },
  {
   "cell_type": "code",
   "execution_count": 17,
   "metadata": {
    "collapsed": true
   },
   "outputs": [],
   "source": [
    "days = train['상영기간'].values\n",
    "hol = train['연휴포함'].values"
   ]
  },
  {
   "cell_type": "code",
   "execution_count": 18,
   "metadata": {
    "collapsed": false
   },
   "outputs": [],
   "source": [
    "mat = csr_matrix(days , dtype=int)\n",
    "mat.transpose()\n",
    "x_list = hstack((x_list, mat.transpose()))"
   ]
  },
  {
   "cell_type": "code",
   "execution_count": 19,
   "metadata": {
    "collapsed": false
   },
   "outputs": [],
   "source": [
    "mat = csr_matrix(hol , dtype=int)\n",
    "mat.transpose()\n",
    "x_list = hstack((x_list, mat.transpose()))"
   ]
  },
  {
   "cell_type": "markdown",
   "metadata": {},
   "source": [
    "# Cross Validation\n",
    "- TrainSet과 TestSet을 분할\n",
    "- RMSE(Root Mean Squared Error) 계산\n",
    "- K-Fold를 통해 의미있는 RMSE 값을 도출"
   ]
  },
  {
   "cell_type": "code",
   "execution_count": 20,
   "metadata": {
    "collapsed": true
   },
   "outputs": [],
   "source": [
    "from sklearn.cross_validation import train_test_split\n",
    "from sklearn.cross_validation import KFold"
   ]
  },
  {
   "cell_type": "code",
   "execution_count": 21,
   "metadata": {
    "collapsed": false
   },
   "outputs": [
    {
     "data": {
      "text/plain": [
       "(7393, 2272)"
      ]
     },
     "execution_count": 21,
     "metadata": {},
     "output_type": "execute_result"
    }
   ],
   "source": [
    "x_list.shape"
   ]
  },
  {
   "cell_type": "code",
   "execution_count": 22,
   "metadata": {
    "collapsed": true
   },
   "outputs": [],
   "source": [
    "y_list = train['누적관객수'].values"
   ]
  },
  {
   "cell_type": "code",
   "execution_count": 23,
   "metadata": {
    "collapsed": true
   },
   "outputs": [],
   "source": [
    "def RMSE(y, ypred) :\n",
    "    rmse = np.sqrt(np.mean((y - ypred) **2))\n",
    "    return rmse"
   ]
  },
  {
   "cell_type": "code",
   "execution_count": 24,
   "metadata": {
    "collapsed": false
   },
   "outputs": [
    {
     "data": {
      "text/plain": [
       "array([2635, 1576, 4408, ..., 7231, 2019, 5408])"
      ]
     },
     "execution_count": 24,
     "metadata": {},
     "output_type": "execute_result"
    }
   ],
   "source": [
    "cv = KFold(n=len(y_list), n_folds=5, shuffle=True)\n",
    "cv.idxs"
   ]
  },
  {
   "cell_type": "markdown",
   "metadata": {},
   "source": [
    "# RMSE\n",
    "- RandomForestRegressor Model을 사용\n",
    "- Hyper Parameter Tuning을 통해 최적의 파라메터를 분석"
   ]
  },
  {
   "cell_type": "code",
   "execution_count": 25,
   "metadata": {
    "collapsed": false
   },
   "outputs": [],
   "source": [
    "from sklearn.ensemble import RandomForestRegressor"
   ]
  },
  {
   "cell_type": "code",
   "execution_count": 26,
   "metadata": {
    "collapsed": true
   },
   "outputs": [],
   "source": [
    "x_array = x_list.toarray()\n",
    "y_array = y_list\n",
    "rmse_list = []"
   ]
  },
  {
   "cell_type": "code",
   "execution_count": 27,
   "metadata": {
    "collapsed": false
   },
   "outputs": [],
   "source": [
    "for training_set, test_set in cv:\n",
    "    X_train = x_array[training_set]\n",
    "    y_train = y_array[training_set]\n",
    "    X_test = x_array[test_set]\n",
    "    y_test = y_array[test_set]\n",
    "    model = RandomForestRegressor(n_estimators=100, n_jobs=-1)\n",
    "    model.fit(csr_matrix(X_train, dtype=float), y_train)\n",
    "    y_prediction = model.predict(X_test)\n",
    "    rmse = RMSE(y_test,y_prediction)\n",
    "    rmse_list.append(rmse)"
   ]
  },
  {
   "cell_type": "code",
   "execution_count": 28,
   "metadata": {
    "collapsed": false,
    "scrolled": true
   },
   "outputs": [
    {
     "name": "stdout",
     "output_type": "stream",
     "text": [
      "RMSE = 112744.583357\n"
     ]
    }
   ],
   "source": [
    "print(\"RMSE = {0:.6f}\".format(sum(rmse_list) / len(rmse_list)))"
   ]
  },
  {
   "cell_type": "code",
   "execution_count": 29,
   "metadata": {
    "collapsed": false
   },
   "outputs": [],
   "source": [
    "test_x_list = vectorizer.transform(test_d_list)"
   ]
  },
  {
   "cell_type": "markdown",
   "metadata": {},
   "source": [
    "# Predict\n",
    "- For test data"
   ]
  },
  {
   "cell_type": "code",
   "execution_count": 30,
   "metadata": {
    "collapsed": false,
    "scrolled": true
   },
   "outputs": [
    {
     "data": {
      "text/plain": [
       "RandomForestRegressor(bootstrap=True, criterion='mse', max_depth=None,\n",
       "           max_features='auto', max_leaf_nodes=None, min_samples_leaf=1,\n",
       "           min_samples_split=2, min_weight_fraction_leaf=0.0,\n",
       "           n_estimators=100, n_jobs=-1, oob_score=False, random_state=None,\n",
       "           verbose=0, warm_start=False)"
      ]
     },
     "execution_count": 30,
     "metadata": {},
     "output_type": "execute_result"
    }
   ],
   "source": [
    "from sklearn.ensemble import RandomForestRegressor\n",
    "model_rfr = RandomForestRegressor(n_estimators=100, n_jobs=-1)\n",
    "model_rfr.fit(x_list, y_list)"
   ]
  },
  {
   "cell_type": "code",
   "execution_count": 31,
   "metadata": {
    "collapsed": true
   },
   "outputs": [],
   "source": [
    "test_days = [23,16,16]"
   ]
  },
  {
   "cell_type": "code",
   "execution_count": 32,
   "metadata": {
    "collapsed": false
   },
   "outputs": [],
   "source": [
    "mat = csr_matrix(test_days , dtype=int)\n",
    "mat.transpose()\n",
    "test_x_list = hstack((test_x_list, mat.transpose()))"
   ]
  },
  {
   "cell_type": "code",
   "execution_count": 33,
   "metadata": {
    "collapsed": true
   },
   "outputs": [],
   "source": [
    "hol = csr_matrix([True,True,True] , dtype=int)\n",
    "hol.transpose()\n",
    "test_x_list = hstack((test_x_list, hol.transpose()))"
   ]
  },
  {
   "cell_type": "code",
   "execution_count": 34,
   "metadata": {
    "collapsed": false
   },
   "outputs": [
    {
     "data": {
      "text/plain": [
       "array([ 1468606.16,  1766153.99,   514653.49])"
      ]
     },
     "execution_count": 34,
     "metadata": {},
     "output_type": "execute_result"
    }
   ],
   "source": [
    "model_rfr.predict(test_x_list)"
   ]
  },
  {
   "cell_type": "markdown",
   "metadata": {
    "collapsed": true
   },
   "source": [
    "# Result\n"
   ]
  },
  {
   "cell_type": "markdown",
   "metadata": {},
   "source": [
    "## Last Baseline"
   ]
  },
  {
   "cell_type": "markdown",
   "metadata": {},
   "source": [
    "- RMSE = 112744.583357\n",
    "- Predict = 1468606.16,  1766153.99,   514653.49"
   ]
  }
 ],
 "metadata": {
  "anaconda-cloud": {},
  "kernelspec": {
   "display_name": "Python [Root]",
   "language": "python",
   "name": "Python [Root]"
  },
  "language_info": {
   "codemirror_mode": {
    "name": "ipython",
    "version": 3
   },
   "file_extension": ".py",
   "mimetype": "text/x-python",
   "name": "python",
   "nbconvert_exporter": "python",
   "pygments_lexer": "ipython3",
   "version": "3.5.2"
  }
 },
 "nbformat": 4,
 "nbformat_minor": 0
}
