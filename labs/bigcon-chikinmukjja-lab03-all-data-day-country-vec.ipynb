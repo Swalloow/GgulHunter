{
 "cells": [
  {
   "cell_type": "code",
   "execution_count": 1,
   "metadata": {
    "collapsed": true
   },
   "outputs": [],
   "source": [
    "import numpy as np\n",
    "import pandas as pd"
   ]
  },
  {
   "cell_type": "markdown",
   "metadata": {},
   "source": [
    "## Data road"
   ]
  },
  {
   "cell_type": "code",
   "execution_count": 2,
   "metadata": {
    "collapsed": false
   },
   "outputs": [],
   "source": [
    "train = pd.read_pickle(\"../all_df.p\")\n",
    "train = train.reset_index() # 전체 엑셀파일 데이터 다 모으고 하면됌\n",
    "train = train.drop('index',axis=1)\n",
    "#train.head(3)"
   ]
  },
  {
   "cell_type": "code",
   "execution_count": 51,
   "metadata": {
    "collapsed": false
   },
   "outputs": [],
   "source": [
    "test = pd.read_pickle(\"../test.p\")\n",
    "#test"
   ]
  },
  {
   "cell_type": "markdown",
   "metadata": {},
   "source": [
    "### 0. 추가되는 feature"
   ]
  },
  {
   "cell_type": "code",
   "execution_count": 4,
   "metadata": {
    "collapsed": true
   },
   "outputs": [],
   "source": [
    "added_feature = []"
   ]
  },
  {
   "cell_type": "markdown",
   "metadata": {},
   "source": [
    "## preprocessing\n",
    "### 1. date 년원일 분할"
   ]
  },
  {
   "cell_type": "code",
   "execution_count": 5,
   "metadata": {
    "collapsed": false
   },
   "outputs": [],
   "source": [
    "from datetime import datetime\n",
    "def divide_dates(train):\n",
    "    total_count = train.shape[0]\n",
    "    count = 0\n",
    "\n",
    "    dates_data = []\n",
    "\n",
    "    for index, row in train['날짜'].iteritems():\n",
    "        count = count + 1\n",
    "    \n",
    "        if count % 10000 == 0:\n",
    "            print(\"processing... {0}/{1}\".format(count,total_count))\n",
    "        \n",
    "        \n",
    "        date = datetime.strptime(row[0:len(row)-3],\"%Y년 %m월 %d일\")\n",
    "    \n",
    "        dates_data.append({\n",
    "                \"index\":index,\n",
    "                \"Dates-Year\": date.year,\n",
    "                \"Dates-Month\": date.month,\n",
    "                \"Dates-Day\": date.day,\n",
    "            })\n",
    "    \n",
    "    dates_dataframe = pd.DataFrame.from_dict(dates_data).astype('int32')\n",
    "    dates_dataframe = dates_dataframe.set_index(\"index\")\n",
    "\n",
    "    dates_columns =[\"Dates-Year\",\"Dates-Month\",\"Dates-Day\"]\n",
    "    dates_dataframe = dates_dataframe[dates_columns]\n",
    "\n",
    "    train = pd.concat([train,dates_dataframe],axis=1)\n",
    "    return train"
   ]
  },
  {
   "cell_type": "code",
   "execution_count": 6,
   "metadata": {
    "collapsed": false
   },
   "outputs": [
    {
     "name": "stdout",
     "output_type": "stream",
     "text": [
      "processing... 10000/65088\n",
      "processing... 20000/65088\n",
      "processing... 30000/65088\n",
      "processing... 40000/65088\n",
      "processing... 50000/65088\n",
      "processing... 60000/65088\n"
     ]
    }
   ],
   "source": [
    "train=divide_dates(train)\n",
    "#train.head(3)"
   ]
  },
  {
   "cell_type": "code",
   "execution_count": 52,
   "metadata": {
    "collapsed": false,
    "scrolled": true
   },
   "outputs": [],
   "source": [
    "test = divide_dates(test)\n",
    "#test"
   ]
  },
  {
   "cell_type": "code",
   "execution_count": 8,
   "metadata": {
    "collapsed": false
   },
   "outputs": [],
   "source": [
    "added_feature.append(\"Dates-Year\")\n",
    "added_feature.append(\"Dates-Month\")\n",
    "added_feature.append(\"Dates-Day\")"
   ]
  },
  {
   "cell_type": "markdown",
   "metadata": {},
   "source": [
    "### 2. 상영기간 30이하 삭제 및 상영기간 feature 추가"
   ]
  },
  {
   "cell_type": "code",
   "execution_count": 9,
   "metadata": {
    "collapsed": true
   },
   "outputs": [],
   "source": [
    "import re\n",
    "\n",
    "train[\"날짜\"] = train[\"날짜\"].apply(lambda date: re.sub('[(년월화수목금토일)]', '', date))\n",
    "train[\"날짜\"] = train[\"날짜\"].apply(lambda date: date.replace(\" \", \"-\"))\n",
    "train[\"날짜\"].head(3)\n",
    "\n",
    "train[\"개봉일\"] = pd.to_datetime(train[\"개봉일\"], errors='coerce')\n",
    "train[\"개봉일\"].head()\n",
    "\n",
    "train[\"상영기간\"] = pd.to_datetime(train[\"날짜\"]) - pd.to_datetime(train[\"개봉일\"])\n",
    "train = train.dropna(subset=['상영기간'])\n",
    "\n",
    "train = train[train[\"상영기간\"] >= '0 days']\n",
    "train = train[train[\"상영기간\"] < '30 days']"
   ]
  },
  {
   "cell_type": "code",
   "execution_count": 10,
   "metadata": {
    "collapsed": false
   },
   "outputs": [
    {
     "data": {
      "text/plain": [
       "(28586, 27)"
      ]
     },
     "execution_count": 10,
     "metadata": {},
     "output_type": "execute_result"
    }
   ],
   "source": [
    "train.shape"
   ]
  },
  {
   "cell_type": "code",
   "execution_count": 11,
   "metadata": {
    "collapsed": true
   },
   "outputs": [],
   "source": [
    "added_feature = added_feature + ['상영기간']"
   ]
  },
  {
   "cell_type": "markdown",
   "metadata": {},
   "source": [
    "### 3. 대표국적 30개이하 기타로 통합"
   ]
  },
  {
   "cell_type": "code",
   "execution_count": 12,
   "metadata": {
    "collapsed": true
   },
   "outputs": [],
   "source": [
    "def cut_small_country(data):\n",
    "    data.loc[(data[\"대표국적\"] != \"한국\")&\n",
    "             (data[\"대표국적\"] != \"미국\")&\n",
    "             (data[\"대표국적\"] != \"일본\")&\n",
    "             (data[\"대표국적\"] != \"프랑스\")&\n",
    "             (data[\"대표국적\"] != \"기타\")&\n",
    "             (data[\"대표국적\"] != \"독일\")&\n",
    "             (data[\"대표국적\"] != \"영국\")&\n",
    "             (data[\"대표국적\"] != \"이탈리아\")&\n",
    "             (data[\"대표국적\"] != \"중국\")&\n",
    "             (data[\"대표국적\"] != \"홍콩\")&\n",
    "             (data[\"대표국적\"] != \"캐나다\")&\n",
    "             (data[\"대표국적\"] != \"포르투갈\")&\n",
    "             (data[\"대표국적\"] != \"스웨덴\")&\n",
    "             (data[\"대표국적\"] != \"러시아\")&\n",
    "             (data[\"대표국적\"] != \"대만\")&\n",
    "             (data[\"대표국적\"] != \"스페인\"),\n",
    "             \"대표국적\"] = \"기타\""
   ]
  },
  {
   "cell_type": "code",
   "execution_count": 13,
   "metadata": {
    "collapsed": true
   },
   "outputs": [],
   "source": [
    "cut_small_country(train)"
   ]
  },
  {
   "cell_type": "code",
   "execution_count": 14,
   "metadata": {
    "collapsed": true
   },
   "outputs": [],
   "source": [
    "contry = pd.get_dummies(train[\"대표국적\"])"
   ]
  },
  {
   "cell_type": "code",
   "execution_count": 15,
   "metadata": {
    "collapsed": true
   },
   "outputs": [],
   "source": [
    "def count_one_hot(one_hot_data):\n",
    "    data = pd.DataFrame(columns=[\"count\",\"country\"])\n",
    "    for row in one_hot_data.columns:\n",
    "        data_except_rows = one_hot_data[one_hot_data[row] == 1]\n",
    "        tmp = pd.DataFrame({\"country\": [row],\n",
    "                            \"count\": data_except_rows[row].count()})\n",
    "        data=data.append(tmp)\n",
    "    result = data.sort([\"count\"],ascending=0)\n",
    "    result = result.reset_index() # 전체 엑셀파일 데이터 다 모으고 하면됌\n",
    "    result = result.drop('index',axis=1)\n",
    "    return result"
   ]
  },
  {
   "cell_type": "code",
   "execution_count": 16,
   "metadata": {
    "collapsed": false,
    "scrolled": true
   },
   "outputs": [
    {
     "name": "stderr",
     "output_type": "stream",
     "text": [
      "C:\\Anaconda3\\lib\\site-packages\\ipykernel\\__main__.py:8: FutureWarning: sort(columns=....) is deprecated, use sort_values(by=.....)\n"
     ]
    }
   ],
   "source": [
    "result = count_one_hot(contry)\n",
    "#result"
   ]
  },
  {
   "cell_type": "code",
   "execution_count": 17,
   "metadata": {
    "collapsed": false,
    "scrolled": true
   },
   "outputs": [],
   "source": [
    "train = pd.concat([train,pd.get_dummies(train[\"대표국적\"])],axis=1)\n",
    "#train.head(3)"
   ]
  },
  {
   "cell_type": "code",
   "execution_count": 18,
   "metadata": {
    "collapsed": false
   },
   "outputs": [
    {
     "data": {
      "text/plain": [
       "Index(['날짜', '순위', '영화명', '개봉일', '매출액', '매출액 점유율', '매출액증감 (전일대비)',\n",
       "       '매출액증감율 (전일대비)', '누적매출액', '관객수', '관객수증감 (전일대비)', '관객수증감율 (전일대비)',\n",
       "       '누적관객수', '스크린수', '상영횟수', '대표국적', '국적', '제작사', '배급사', '등급', '장르', '감독',\n",
       "       '배우', 'Dates-Year', 'Dates-Month', 'Dates-Day', '상영기간', '기타', '대만',\n",
       "       '독일', '러시아', '미국', '스웨덴', '스페인', '영국', '이탈리아', '일본', '중국', '캐나다', '프랑스',\n",
       "       '한국', '홍콩'],\n",
       "      dtype='object')"
      ]
     },
     "execution_count": 18,
     "metadata": {},
     "output_type": "execute_result"
    }
   ],
   "source": [
    "train.columns"
   ]
  },
  {
   "cell_type": "code",
   "execution_count": 19,
   "metadata": {
    "collapsed": true
   },
   "outputs": [],
   "source": [
    "added_feature=added_feature + ['기타', '대만',\n",
    "       '독일', '러시아', '미국', '스웨덴', '스페인', '영국', '이탈리아', '일본', '중국', '캐나다', '프랑스',\n",
    "       '한국', '홍콩']"
   ]
  },
  {
   "cell_type": "code",
   "execution_count": 20,
   "metadata": {
    "collapsed": false
   },
   "outputs": [
    {
     "data": {
      "text/plain": [
       "['Dates-Year',\n",
       " 'Dates-Month',\n",
       " 'Dates-Day',\n",
       " '상영기간',\n",
       " '기타',\n",
       " '대만',\n",
       " '독일',\n",
       " '러시아',\n",
       " '미국',\n",
       " '스웨덴',\n",
       " '스페인',\n",
       " '영국',\n",
       " '이탈리아',\n",
       " '일본',\n",
       " '중국',\n",
       " '캐나다',\n",
       " '프랑스',\n",
       " '한국',\n",
       " '홍콩']"
      ]
     },
     "execution_count": 20,
     "metadata": {},
     "output_type": "execute_result"
    }
   ],
   "source": [
    "added_feature"
   ]
  },
  {
   "cell_type": "markdown",
   "metadata": {},
   "source": [
    "## 4. vectorize  국적, 제작사, 배급사, 장르, 감독, 배우"
   ]
  },
  {
   "cell_type": "code",
   "execution_count": 21,
   "metadata": {
    "collapsed": false
   },
   "outputs": [
    {
     "data": {
      "text/plain": [
       "Index(['국적', '제작사', '배급사', '장르', '감독', '배우'], dtype='object')"
      ]
     },
     "execution_count": 21,
     "metadata": {},
     "output_type": "execute_result"
    }
   ],
   "source": [
    "vector_columns = test.columns.drop(['날짜', '영화명', '개봉일','대표국적','등급','Dates-Year', 'Dates-Month', 'Dates-Day'])\n",
    "#vector_columns = test.columns.drop(['날짜', '영화명', '개봉일'])\n",
    "vector_columns"
   ]
  },
  {
   "cell_type": "code",
   "execution_count": 22,
   "metadata": {
    "collapsed": false
   },
   "outputs": [],
   "source": [
    "d_list = []\n",
    "for each in train.iterrows():\n",
    "    row = \"\"\n",
    "    for column in vector_columns.values :\n",
    "        if type(each[1][column]) == str :\n",
    "            row = row + each[1][column] + \" \"\n",
    "    d_list.append(row)"
   ]
  },
  {
   "cell_type": "code",
   "execution_count": 23,
   "metadata": {
    "collapsed": true
   },
   "outputs": [],
   "source": [
    "y_list = train[\"누적관객수\"].values"
   ]
  },
  {
   "cell_type": "code",
   "execution_count": 24,
   "metadata": {
    "collapsed": true
   },
   "outputs": [],
   "source": [
    "test_d_list = []\n",
    "for each in test.iterrows():\n",
    "    row = \"\"\n",
    "    for column in vector_columns.values :\n",
    "        if type(each[1][column]) == str :\n",
    "            row = row + each[1][column] + \" \"\n",
    "    test_d_list.append(row)"
   ]
  },
  {
   "cell_type": "code",
   "execution_count": 25,
   "metadata": {
    "collapsed": false
   },
   "outputs": [
    {
     "data": {
      "text/plain": [
       "['한국 (주)시네마서비스 씨제이이앤엠(주) 사극 강우석 차승원,유준상,김인권,남지현,신동미,남경읍,태인호,공형진,김종수 ',\n",
       " '미국  유니버설픽쳐스인터내셔널 코리아(유) 액션, 서부극(웨스턴) 안톤 후쿠아 덴젤 워싱턴,크리스 프랫,이병헌,에단 호크,맷 보머,빈센트 도노프리오,해일리 베넷,캠 지갠뎃 ',\n",
       " '미국  CGV아트하우스 멜로/로맨스, 드라마 우디 앨런 제시 아이젠버그, 크리스틴 스튜어트, 스티브 카렐, 블레이크 라이블리 ']"
      ]
     },
     "execution_count": 25,
     "metadata": {},
     "output_type": "execute_result"
    }
   ],
   "source": [
    "test_d_list"
   ]
  },
  {
   "cell_type": "code",
   "execution_count": 26,
   "metadata": {
    "collapsed": false
   },
   "outputs": [
    {
     "data": {
      "text/plain": [
       "<28586x9143 sparse matrix of type '<class 'numpy.float64'>'\n",
       "\twith 387983 stored elements in Compressed Sparse Row format>"
      ]
     },
     "execution_count": 26,
     "metadata": {},
     "output_type": "execute_result"
    }
   ],
   "source": [
    "from sklearn.feature_extraction.text import TfidfVectorizer\n",
    "vectorizer = TfidfVectorizer()\n",
    "x_list = vectorizer.fit_transform(d_list)\n",
    "x_list"
   ]
  },
  {
   "cell_type": "code",
   "execution_count": 27,
   "metadata": {
    "collapsed": true
   },
   "outputs": [],
   "source": [
    "# 피처갯수만큼 추가 상영기간,년, 원, 일, 한국, 미국, 일본, 프랑스, 기타, 영국, 독일, \n",
    "#                   중국,홍콩,캐나다, 스페인, 스웨덴, 포루투갈,러시아, 대만\n",
    "x_list._shape = (x_list.shape[0], x_list.shape[1] + len(added_feature)) ## "
   ]
  },
  {
   "cell_type": "code",
   "execution_count": 28,
   "metadata": {
    "collapsed": false
   },
   "outputs": [
    {
     "data": {
      "text/plain": [
       "8"
      ]
     },
     "execution_count": 28,
     "metadata": {},
     "output_type": "execute_result"
    }
   ],
   "source": [
    "train[\"상영기간\"] = train[\"상영기간\"].astype('timedelta64[D]').astype(int)\n",
    "train.iloc[0]['상영기간']"
   ]
  },
  {
   "cell_type": "code",
   "execution_count": 29,
   "metadata": {
    "collapsed": false
   },
   "outputs": [
    {
     "data": {
      "text/plain": [
       "(28586, 42)"
      ]
     },
     "execution_count": 29,
     "metadata": {},
     "output_type": "execute_result"
    }
   ],
   "source": [
    "train.shape"
   ]
  },
  {
   "cell_type": "code",
   "execution_count": 30,
   "metadata": {
    "collapsed": false,
    "scrolled": true
   },
   "outputs": [
    {
     "name": "stderr",
     "output_type": "stream",
     "text": [
      "C:\\Anaconda3\\lib\\site-packages\\scipy\\sparse\\compressed.py:730: SparseEfficiencyWarning: Changing the sparsity structure of a csr_matrix is expensive. lil_matrix is more efficient.\n",
      "  SparseEfficiencyWarning)\n"
     ]
    }
   ],
   "source": [
    "for feature in added_feature:\n",
    "    index = 1;\n",
    "    temp = train[feature].values\n",
    "    for i in range(x_list.shape[0]) :\n",
    "        x_list[i, x_list.shape[1] - index] = temp[i]\n",
    "    index = index + 1"
   ]
  },
  {
   "cell_type": "code",
   "execution_count": 31,
   "metadata": {
    "collapsed": false
   },
   "outputs": [
    {
     "data": {
      "text/plain": [
       "<28586x9162 sparse matrix of type '<class 'numpy.float64'>'\n",
       "\twith 416569 stored elements in Compressed Sparse Row format>"
      ]
     },
     "execution_count": 31,
     "metadata": {},
     "output_type": "execute_result"
    }
   ],
   "source": [
    "x_list"
   ]
  },
  {
   "cell_type": "markdown",
   "metadata": {},
   "source": [
    "## cv"
   ]
  },
  {
   "cell_type": "code",
   "execution_count": 32,
   "metadata": {
    "collapsed": true
   },
   "outputs": [],
   "source": [
    "def RMSE(y, ypred):\n",
    "    rmse = np.sqrt(np.mean((y - ypred) ** 2))\n",
    "    return rmse"
   ]
  },
  {
   "cell_type": "code",
   "execution_count": 33,
   "metadata": {
    "collapsed": false
   },
   "outputs": [
    {
     "data": {
      "text/plain": [
       "DecisionTreeRegressor(criterion='mse', max_depth=None, max_features=None,\n",
       "           max_leaf_nodes=None, min_samples_leaf=1, min_samples_split=2,\n",
       "           min_weight_fraction_leaf=0.0, presort=False, random_state=None,\n",
       "           splitter='best')"
      ]
     },
     "execution_count": 33,
     "metadata": {},
     "output_type": "execute_result"
    }
   ],
   "source": [
    "from sklearn.tree import DecisionTreeRegressor\n",
    "model_rfr = DecisionTreeRegressor()\n",
    "model_rfr.fit(x_list, y_list)"
   ]
  },
  {
   "cell_type": "code",
   "execution_count": 34,
   "metadata": {
    "collapsed": false
   },
   "outputs": [
    {
     "data": {
      "text/plain": [
       "RandomForestRegressor(bootstrap=True, criterion='mse', max_depth=None,\n",
       "           max_features='auto', max_leaf_nodes=None, min_samples_leaf=1,\n",
       "           min_samples_split=2, min_weight_fraction_leaf=0.0,\n",
       "           n_estimators=100, n_jobs=-1, oob_score=False, random_state=None,\n",
       "           verbose=0, warm_start=False)"
      ]
     },
     "execution_count": 34,
     "metadata": {},
     "output_type": "execute_result"
    }
   ],
   "source": [
    "from sklearn.ensemble import RandomForestRegressor\n",
    "model_rfr = RandomForestRegressor(n_estimators=100, n_jobs=-1)\n",
    "model_rfr.fit(x_list, y_list)"
   ]
  },
  {
   "cell_type": "code",
   "execution_count": 35,
   "metadata": {
    "collapsed": true
   },
   "outputs": [],
   "source": [
    "predict_values = model_rfr.predict(x_list)"
   ]
  },
  {
   "cell_type": "code",
   "execution_count": 36,
   "metadata": {
    "collapsed": false
   },
   "outputs": [
    {
     "data": {
      "text/plain": [
       "390513.9700245132"
      ]
     },
     "execution_count": 36,
     "metadata": {},
     "output_type": "execute_result"
    }
   ],
   "source": [
    "error_rfr = RMSE(y_list, predict_values)\n",
    "error_rfr"
   ]
  },
  {
   "cell_type": "code",
   "execution_count": 53,
   "metadata": {
    "collapsed": false
   },
   "outputs": [
    {
     "data": {
      "text/html": [
       "<div>\n",
       "<table border=\"1\" class=\"dataframe\">\n",
       "  <thead>\n",
       "    <tr style=\"text-align: right;\">\n",
       "      <th></th>\n",
       "      <th>날짜</th>\n",
       "      <th>영화명</th>\n",
       "      <th>개봉일</th>\n",
       "      <th>대표국적</th>\n",
       "      <th>국적</th>\n",
       "      <th>제작사</th>\n",
       "      <th>배급사</th>\n",
       "      <th>등급</th>\n",
       "      <th>장르</th>\n",
       "      <th>감독</th>\n",
       "      <th>배우</th>\n",
       "      <th>Dates-Year</th>\n",
       "      <th>Dates-Month</th>\n",
       "      <th>Dates-Day</th>\n",
       "    </tr>\n",
       "  </thead>\n",
       "  <tbody>\n",
       "    <tr>\n",
       "      <th>0</th>\n",
       "      <td>2016년 09월 30일(금)</td>\n",
       "      <td>고산자, 대동여지도</td>\n",
       "      <td>2016-09-07</td>\n",
       "      <td>한국</td>\n",
       "      <td>한국</td>\n",
       "      <td>(주)시네마서비스</td>\n",
       "      <td>씨제이이앤엠(주)</td>\n",
       "      <td>전체관람가</td>\n",
       "      <td>사극</td>\n",
       "      <td>강우석</td>\n",
       "      <td>차승원,유준상,김인권,남지현,신동미,남경읍,태인호,공형진,김종수</td>\n",
       "      <td>2016</td>\n",
       "      <td>9</td>\n",
       "      <td>30</td>\n",
       "    </tr>\n",
       "    <tr>\n",
       "      <th>1</th>\n",
       "      <td>2016년 09월 30일(금)</td>\n",
       "      <td>매그니피센트 7</td>\n",
       "      <td>2016-09-14</td>\n",
       "      <td>미국</td>\n",
       "      <td>미국</td>\n",
       "      <td></td>\n",
       "      <td>유니버설픽쳐스인터내셔널 코리아(유)</td>\n",
       "      <td>15세이상관람가</td>\n",
       "      <td>액션, 서부극(웨스턴)</td>\n",
       "      <td>안톤 후쿠아</td>\n",
       "      <td>덴젤 워싱턴,크리스 프랫,이병헌,에단 호크,맷 보머,빈센트 도노프리오,해일리 베넷,...</td>\n",
       "      <td>2016</td>\n",
       "      <td>9</td>\n",
       "      <td>30</td>\n",
       "    </tr>\n",
       "    <tr>\n",
       "      <th>2</th>\n",
       "      <td>2016년 09월 30일(금)</td>\n",
       "      <td>카페 소사이어티</td>\n",
       "      <td>2016-09-14</td>\n",
       "      <td>미국</td>\n",
       "      <td>미국</td>\n",
       "      <td></td>\n",
       "      <td>CGV아트하우스</td>\n",
       "      <td>전체관람가</td>\n",
       "      <td>멜로/로맨스, 드라마</td>\n",
       "      <td>우디 앨런</td>\n",
       "      <td>제시 아이젠버그, 크리스틴 스튜어트, 스티브 카렐, 블레이크 라이블리</td>\n",
       "      <td>2016</td>\n",
       "      <td>9</td>\n",
       "      <td>30</td>\n",
       "    </tr>\n",
       "  </tbody>\n",
       "</table>\n",
       "</div>"
      ],
      "text/plain": [
       "                 날짜         영화명        개봉일 대표국적  국적        제작사  \\\n",
       "0  2016년 09월 30일(금)  고산자, 대동여지도 2016-09-07   한국  한국  (주)시네마서비스   \n",
       "1  2016년 09월 30일(금)    매그니피센트 7 2016-09-14   미국  미국              \n",
       "2  2016년 09월 30일(금)    카페 소사이어티 2016-09-14   미국  미국              \n",
       "\n",
       "                   배급사        등급            장르      감독  \\\n",
       "0            씨제이이앤엠(주)     전체관람가            사극     강우석   \n",
       "1  유니버설픽쳐스인터내셔널 코리아(유)  15세이상관람가  액션, 서부극(웨스턴)  안톤 후쿠아   \n",
       "2             CGV아트하우스     전체관람가   멜로/로맨스, 드라마   우디 앨런   \n",
       "\n",
       "                                                  배우  Dates-Year  Dates-Month  \\\n",
       "0                차승원,유준상,김인권,남지현,신동미,남경읍,태인호,공형진,김종수        2016            9   \n",
       "1  덴젤 워싱턴,크리스 프랫,이병헌,에단 호크,맷 보머,빈센트 도노프리오,해일리 베넷,...        2016            9   \n",
       "2             제시 아이젠버그, 크리스틴 스튜어트, 스티브 카렐, 블레이크 라이블리        2016            9   \n",
       "\n",
       "   Dates-Day  \n",
       "0         30  \n",
       "1         30  \n",
       "2         30  "
      ]
     },
     "execution_count": 53,
     "metadata": {},
     "output_type": "execute_result"
    }
   ],
   "source": [
    "test"
   ]
  },
  {
   "cell_type": "code",
   "execution_count": 54,
   "metadata": {
    "collapsed": true
   },
   "outputs": [],
   "source": [
    "test = pd.concat([test,pd.get_dummies([\"대표국적\"])],axis=1)"
   ]
  },
  {
   "cell_type": "code",
   "execution_count": 55,
   "metadata": {
    "collapsed": false
   },
   "outputs": [],
   "source": [
    "for f in ['기타', '대만','독일', '러시아',  '스웨덴', '스페인', '영국', '이탈리아', '일본', '중국', '캐나다', '프랑스','홍콩']:\n",
    "    test[f]=0"
   ]
  },
  {
   "cell_type": "code",
   "execution_count": 56,
   "metadata": {
    "collapsed": false
   },
   "outputs": [
    {
     "data": {
      "text/html": [
       "<div>\n",
       "<table border=\"1\" class=\"dataframe\">\n",
       "  <thead>\n",
       "    <tr style=\"text-align: right;\">\n",
       "      <th></th>\n",
       "      <th>날짜</th>\n",
       "      <th>영화명</th>\n",
       "      <th>개봉일</th>\n",
       "      <th>대표국적</th>\n",
       "      <th>국적</th>\n",
       "      <th>제작사</th>\n",
       "      <th>배급사</th>\n",
       "      <th>등급</th>\n",
       "      <th>장르</th>\n",
       "      <th>감독</th>\n",
       "      <th>...</th>\n",
       "      <th>러시아</th>\n",
       "      <th>스웨덴</th>\n",
       "      <th>스페인</th>\n",
       "      <th>영국</th>\n",
       "      <th>이탈리아</th>\n",
       "      <th>일본</th>\n",
       "      <th>중국</th>\n",
       "      <th>캐나다</th>\n",
       "      <th>프랑스</th>\n",
       "      <th>홍콩</th>\n",
       "    </tr>\n",
       "  </thead>\n",
       "  <tbody>\n",
       "    <tr>\n",
       "      <th>0</th>\n",
       "      <td>2016년 09월 30일(금)</td>\n",
       "      <td>고산자, 대동여지도</td>\n",
       "      <td>2016-09-07</td>\n",
       "      <td>한국</td>\n",
       "      <td>한국</td>\n",
       "      <td>(주)시네마서비스</td>\n",
       "      <td>씨제이이앤엠(주)</td>\n",
       "      <td>전체관람가</td>\n",
       "      <td>사극</td>\n",
       "      <td>강우석</td>\n",
       "      <td>...</td>\n",
       "      <td>0</td>\n",
       "      <td>0</td>\n",
       "      <td>0</td>\n",
       "      <td>0</td>\n",
       "      <td>0</td>\n",
       "      <td>0</td>\n",
       "      <td>0</td>\n",
       "      <td>0</td>\n",
       "      <td>0</td>\n",
       "      <td>0</td>\n",
       "    </tr>\n",
       "    <tr>\n",
       "      <th>1</th>\n",
       "      <td>2016년 09월 30일(금)</td>\n",
       "      <td>매그니피센트 7</td>\n",
       "      <td>2016-09-14</td>\n",
       "      <td>미국</td>\n",
       "      <td>미국</td>\n",
       "      <td></td>\n",
       "      <td>유니버설픽쳐스인터내셔널 코리아(유)</td>\n",
       "      <td>15세이상관람가</td>\n",
       "      <td>액션, 서부극(웨스턴)</td>\n",
       "      <td>안톤 후쿠아</td>\n",
       "      <td>...</td>\n",
       "      <td>0</td>\n",
       "      <td>0</td>\n",
       "      <td>0</td>\n",
       "      <td>0</td>\n",
       "      <td>0</td>\n",
       "      <td>0</td>\n",
       "      <td>0</td>\n",
       "      <td>0</td>\n",
       "      <td>0</td>\n",
       "      <td>0</td>\n",
       "    </tr>\n",
       "    <tr>\n",
       "      <th>2</th>\n",
       "      <td>2016년 09월 30일(금)</td>\n",
       "      <td>카페 소사이어티</td>\n",
       "      <td>2016-09-14</td>\n",
       "      <td>미국</td>\n",
       "      <td>미국</td>\n",
       "      <td></td>\n",
       "      <td>CGV아트하우스</td>\n",
       "      <td>전체관람가</td>\n",
       "      <td>멜로/로맨스, 드라마</td>\n",
       "      <td>우디 앨런</td>\n",
       "      <td>...</td>\n",
       "      <td>0</td>\n",
       "      <td>0</td>\n",
       "      <td>0</td>\n",
       "      <td>0</td>\n",
       "      <td>0</td>\n",
       "      <td>0</td>\n",
       "      <td>0</td>\n",
       "      <td>0</td>\n",
       "      <td>0</td>\n",
       "      <td>0</td>\n",
       "    </tr>\n",
       "  </tbody>\n",
       "</table>\n",
       "<p>3 rows × 28 columns</p>\n",
       "</div>"
      ],
      "text/plain": [
       "                 날짜         영화명        개봉일 대표국적  국적        제작사  \\\n",
       "0  2016년 09월 30일(금)  고산자, 대동여지도 2016-09-07   한국  한국  (주)시네마서비스   \n",
       "1  2016년 09월 30일(금)    매그니피센트 7 2016-09-14   미국  미국              \n",
       "2  2016년 09월 30일(금)    카페 소사이어티 2016-09-14   미국  미국              \n",
       "\n",
       "                   배급사        등급            장르      감독 ... 러시아  스웨덴  스페인  영국  \\\n",
       "0            씨제이이앤엠(주)     전체관람가            사극     강우석 ...   0    0    0   0   \n",
       "1  유니버설픽쳐스인터내셔널 코리아(유)  15세이상관람가  액션, 서부극(웨스턴)  안톤 후쿠아 ...   0    0    0   0   \n",
       "2             CGV아트하우스     전체관람가   멜로/로맨스, 드라마   우디 앨런 ...   0    0    0   0   \n",
       "\n",
       "   이탈리아  일본  중국  캐나다  프랑스  홍콩  \n",
       "0     0   0   0    0    0   0  \n",
       "1     0   0   0    0    0   0  \n",
       "2     0   0   0    0    0   0  \n",
       "\n",
       "[3 rows x 28 columns]"
      ]
     },
     "execution_count": 56,
     "metadata": {},
     "output_type": "execute_result"
    }
   ],
   "source": [
    "test"
   ]
  },
  {
   "cell_type": "code",
   "execution_count": 57,
   "metadata": {
    "collapsed": true
   },
   "outputs": [],
   "source": [
    "test_x_list = vectorizer.transform(test_d_list)"
   ]
  },
  {
   "cell_type": "code",
   "execution_count": 58,
   "metadata": {
    "collapsed": false
   },
   "outputs": [
    {
     "data": {
      "text/plain": [
       "(3, 9143)"
      ]
     },
     "execution_count": 58,
     "metadata": {},
     "output_type": "execute_result"
    }
   ],
   "source": [
    "test_x_list.shape"
   ]
  },
  {
   "cell_type": "code",
   "execution_count": 59,
   "metadata": {
    "collapsed": true
   },
   "outputs": [],
   "source": [
    "test_x_list._shape = (3, 9162)"
   ]
  },
  {
   "cell_type": "code",
   "execution_count": 60,
   "metadata": {
    "collapsed": true
   },
   "outputs": [],
   "source": [
    "import re\n",
    "\n",
    "test[\"날짜\"] = test[\"날짜\"].apply(lambda date: re.sub('[(년월화수목금토일)]', '', date))\n",
    "test[\"날짜\"] = test[\"날짜\"].apply(lambda date: date.replace(\" \", \"-\"))\n",
    "test[\"날짜\"].head(3)\n",
    "\n",
    "test[\"개봉일\"] = pd.to_datetime(test[\"개봉일\"], errors='coerce')\n",
    "test[\"개봉일\"].head()\n",
    "\n",
    "test[\"상영기간\"] = pd.to_datetime(test[\"날짜\"]) - pd.to_datetime(test[\"개봉일\"])\n",
    "test = test.dropna(subset=['상영기간'])\n",
    "\n",
    "test = test[test[\"상영기간\"] >= '0 days']\n",
    "test = test[test[\"상영기간\"] < '30 days']\n",
    "test[\"상영기간\"] = test[\"상영기간\"].astype('timedelta64[D]').astype(int)\n",
    "test_days = test['상영기간'].values"
   ]
  },
  {
   "cell_type": "code",
   "execution_count": 61,
   "metadata": {
    "collapsed": false
   },
   "outputs": [],
   "source": [
    "test_feature = added_feature"
   ]
  },
  {
   "cell_type": "code",
   "execution_count": 62,
   "metadata": {
    "collapsed": false
   },
   "outputs": [
    {
     "name": "stderr",
     "output_type": "stream",
     "text": [
      "C:\\Anaconda3\\lib\\site-packages\\scipy\\sparse\\compressed.py:730: SparseEfficiencyWarning: Changing the sparsity structure of a csr_matrix is expensive. lil_matrix is more efficient.\n",
      "  SparseEfficiencyWarning)\n"
     ]
    }
   ],
   "source": [
    "for feature in test_feature:\n",
    "    index = 1;\n",
    "    temp = test[feature].values\n",
    "    for i in range(test_x_list.shape[0]) :\n",
    "        test_x_list[i,test_x_list.shape[1] - index] = temp[i]\n",
    "    index = index + 1"
   ]
  },
  {
   "cell_type": "code",
   "execution_count": 63,
   "metadata": {
    "collapsed": false
   },
   "outputs": [
    {
     "data": {
      "text/plain": [
       "array([  284672.75168218,  1335164.57910283,    22262.85547068])"
      ]
     },
     "execution_count": 63,
     "metadata": {},
     "output_type": "execute_result"
    }
   ],
   "source": [
    "model_rfr.predict(test_x_list)"
   ]
  },
  {
   "cell_type": "code",
   "execution_count": null,
   "metadata": {
    "collapsed": true
   },
   "outputs": [],
   "source": []
  }
 ],
 "metadata": {
  "kernelspec": {
   "display_name": "Python [Root]",
   "language": "python",
   "name": "Python [Root]"
  },
  "language_info": {
   "codemirror_mode": {
    "name": "ipython",
    "version": 3
   },
   "file_extension": ".py",
   "mimetype": "text/x-python",
   "name": "python",
   "nbconvert_exporter": "python",
   "pygments_lexer": "ipython3",
   "version": "3.5.2"
  }
 },
 "nbformat": 4,
 "nbformat_minor": 0
}
